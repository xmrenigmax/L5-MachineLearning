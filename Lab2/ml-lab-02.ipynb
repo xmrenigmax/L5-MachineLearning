{
 "cells": [
  {
   "cell_type": "markdown",
   "metadata": {
    "id": "wM8DYhf8knQs"
   },
   "source": [
    "# Machine Learning Lab 02\n",
    "\n",
    "For this lab, you can find sections for tasks to practice using NumPy, SciPy, Pandas, and Matplotlib (via Pandas) to do some data visualisation.\n"
   ]
  },
  {
   "cell_type": "markdown",
   "metadata": {
    "id": "UbgXVrGrrgwq"
   },
   "source": [
    "### Task 01\n",
    "Your task is then to add the content of ``another_array`` to ``an_array``, and print out the content."
   ]
  },
  {
   "cell_type": "code",
   "execution_count": 2,
   "metadata": {
    "ExecuteTime": {
     "end_time": "2023-10-06T09:51:26.847358Z",
     "start_time": "2023-10-06T09:51:26.058571Z"
    },
    "id": "MGdJtmb2knQw"
   },
   "outputs": [
    {
     "name": "stdout",
     "output_type": "stream",
     "text": [
      "[42.]\n",
      "[0 1 2 3 4 3 2 1 0 3]\n",
      "[42.  0.  1.  2.  3.  4.  3.  2.  1.  0.  3.]\n"
     ]
    }
   ],
   "source": [
    "import numpy as np\n",
    "\n",
    "# creating an empty array\n",
    "an_array = np.array([])\n",
    "\n",
    "# adds 42 to the array\n",
    "an_array = np.append(an_array, 42)\n",
    "print(an_array)\n",
    "\n",
    "# creates a pre-populated array\n",
    "another_array = np.array([0,1,2,3,4,3,2,1,0,3])\n",
    "print(another_array)\n",
    "\n",
    "\n",
    "\n",
    "# TODO: add 'another_array' to 'an_array' and print out the content\n",
    "an_array = np.append(an_array, another_array)\n",
    "\n",
    "print(an_array)"
   ]
  },
  {
   "cell_type": "markdown",
   "metadata": {
    "id": "FBBR3WgOoz9r"
   },
   "source": [
    "### Task 02\n",
    "\n",
    "Do a slice of ``an_array`` so that you get every other (second) number in the array."
   ]
  },
  {
   "cell_type": "code",
   "execution_count": 3,
   "metadata": {
    "ExecuteTime": {
     "end_time": "2023-10-06T09:51:26.853978Z",
     "start_time": "2023-10-06T09:51:26.849794Z"
    },
    "id": "CXC7d0SqknQy"
   },
   "outputs": [
    {
     "name": "stdout",
     "output_type": "stream",
     "text": [
      "[42.  1.  3.  3.  1.  3.]\n"
     ]
    }
   ],
   "source": [
    "# slice the array for every second element\n",
    "an_array = an_array[::2] # : = all elements, :: = step size 2 = amount to skip\n",
    "print(an_array)\n"
   ]
  },
  {
   "cell_type": "markdown",
   "metadata": {
    "id": "YOQbT7uHo4-6"
   },
   "source": [
    "### Task 03\n",
    "\n",
    "Loop over ``an_array`` by index, adapting the following code to use the ``.size`` property instead of ``len()``.\n",
    "\n",
    "```python\n",
    "for i in range(len(an_array)):\n",
    "    print(\"The value at index [{}] is {}\".format(i, an_array[i]))\n",
    "```"
   ]
  },
  {
   "cell_type": "code",
   "execution_count": 4,
   "metadata": {
    "ExecuteTime": {
     "end_time": "2023-10-06T09:51:26.860111Z",
     "start_time": "2023-10-06T09:51:26.855995Z"
    },
    "id": "JEgR5pLcknQy"
   },
   "outputs": [
    {
     "name": "stdout",
     "output_type": "stream",
     "text": [
      "The value at index [[0]] is 42.0\n",
      "The value at index [[1]] is 1.0\n",
      "The value at index [[2]] is 3.0\n",
      "The value at index [[3]] is 3.0\n",
      "The value at index [[4]] is 1.0\n",
      "The value at index [[5]] is 3.0\n"
     ]
    }
   ],
   "source": [
    "## COMPLETE TASK HERE\n",
    "for i in range(np.size(an_array)):\n",
    "    print(\"The value at index [{}] is {}\".format([i], an_array[i]))\n",
    "    \n"
   ]
  },
  {
   "cell_type": "markdown",
   "metadata": {
    "id": "TwYyJ7uTpFPc"
   },
   "source": [
    "### Task 04\n",
    "\n",
    "Your task is to do the ``mean``, ``median`` and ``standard deviation`` too."
   ]
  },
  {
   "cell_type": "code",
   "execution_count": 5,
   "metadata": {
    "ExecuteTime": {
     "end_time": "2023-10-06T09:51:26.865078Z",
     "start_time": "2023-10-06T09:51:26.862834Z"
    },
    "id": "D3uui-nGknQz"
   },
   "outputs": [
    {
     "name": "stdout",
     "output_type": "stream",
     "text": [
      "\n",
      "Descriptive statistics:\n",
      "\tshape = (6,)\n",
      "\tsize = 6\n",
      "\tmin = 1.0\n",
      "\tmax = 42.0\n",
      "\tmean = 8.833333333333334\n",
      "\tmedian = 3.0\n",
      "\tstandard_deviation = 14.85952743378993\n"
     ]
    }
   ],
   "source": [
    "print(\"\\nDescriptive statistics:\")\n",
    "\n",
    "\n",
    "print(\"\\tshape =\", an_array.shape)\n",
    "print(\"\\tsize =\", an_array.size)\n",
    "print(\"\\tmin =\", an_array.min())\n",
    "print(\"\\tmax =\", an_array.max())\n",
    "\n",
    "\n",
    "print(\"\\tmean =\", an_array.mean())\n",
    "print(\"\\tmedian =\", np.median(an_array))\n",
    "print(\"\\tstandard_deviation =\", np.std(an_array))"
   ]
  },
  {
   "cell_type": "markdown",
   "metadata": {
    "id": "bOS2v1k0knQz"
   },
   "source": [
    "## SciPy\n",
    "\n",
    "SciPy can do a lot of things, including calculating the mode, which NumPy cannot for some reason..."
   ]
  },
  {
   "cell_type": "markdown",
   "metadata": {
    "id": "7zHatMMlpduh"
   },
   "source": [
    "### Task 05\n",
    "Your task is to print out the descriptive statistics of ``an_array`` using the [describe()]"
   ]
  },
  {
   "cell_type": "code",
   "execution_count": 6,
   "metadata": {
    "ExecuteTime": {
     "end_time": "2023-10-06T09:51:30.876045Z",
     "start_time": "2023-10-06T09:51:30.866777Z"
    },
    "id": "3aJ3Y7BEknQ0"
   },
   "outputs": [
    {
     "name": "stdout",
     "output_type": "stream",
     "text": [
      "ModeResult(mode=np.float64(3.0), count=np.int64(3))\n",
      "DescribeResult(nobs=np.int64(6), minmax=(np.float64(1.0), np.float64(42.0)), mean=np.float64(8.833333333333334), variance=np.float64(264.96666666666664), skewness=np.float64(1.7741917924262056), kurtosis=np.float64(1.1741456072308747))\n"
     ]
    }
   ],
   "source": [
    "from scipy import stats\n",
    "\n",
    "print(stats.mode(an_array))\n",
    "\n",
    "## use describe()\n",
    "print(stats.describe(an_array))\n"
   ]
  },
  {
   "cell_type": "markdown",
   "metadata": {
    "id": "8P_fqOl4knQ0"
   },
   "source": [
    "## Pandas\n",
    "\n",
    "You can turn dictionaries into Pandas DataFrames, like so..."
   ]
  },
  {
   "cell_type": "code",
   "execution_count": 7,
   "metadata": {
    "ExecuteTime": {
     "end_time": "2023-10-06T09:51:34.102994Z",
     "start_time": "2023-10-06T09:51:30.884927Z"
    },
    "id": "h8HGhIeMknQ0"
   },
   "outputs": [
    {
     "data": {
      "text/html": [
       "<div>\n",
       "<style scoped>\n",
       "    .dataframe tbody tr th:only-of-type {\n",
       "        vertical-align: middle;\n",
       "    }\n",
       "\n",
       "    .dataframe tbody tr th {\n",
       "        vertical-align: top;\n",
       "    }\n",
       "\n",
       "    .dataframe thead th {\n",
       "        text-align: right;\n",
       "    }\n",
       "</style>\n",
       "<table border=\"1\" class=\"dataframe\">\n",
       "  <thead>\n",
       "    <tr style=\"text-align: right;\">\n",
       "      <th></th>\n",
       "      <th>First Name</th>\n",
       "      <th>Last Name</th>\n",
       "      <th>Age</th>\n",
       "      <th>Course</th>\n",
       "    </tr>\n",
       "  </thead>\n",
       "  <tbody>\n",
       "    <tr>\n",
       "      <th>0</th>\n",
       "      <td>Rowan</td>\n",
       "      <td>Wilson</td>\n",
       "      <td>22</td>\n",
       "      <td>Physics</td>\n",
       "    </tr>\n",
       "    <tr>\n",
       "      <th>1</th>\n",
       "      <td>Cassandra</td>\n",
       "      <td>Smith</td>\n",
       "      <td>44</td>\n",
       "      <td>Maths</td>\n",
       "    </tr>\n",
       "    <tr>\n",
       "      <th>2</th>\n",
       "      <td>Naomi</td>\n",
       "      <td>Jones</td>\n",
       "      <td>63</td>\n",
       "      <td>Computing</td>\n",
       "    </tr>\n",
       "    <tr>\n",
       "      <th>3</th>\n",
       "      <td>Joe</td>\n",
       "      <td>Bloggs</td>\n",
       "      <td>19</td>\n",
       "      <td>Maths</td>\n",
       "    </tr>\n",
       "    <tr>\n",
       "      <th>4</th>\n",
       "      <td>Sue</td>\n",
       "      <td>Hunt</td>\n",
       "      <td>21</td>\n",
       "      <td>Physics</td>\n",
       "    </tr>\n",
       "  </tbody>\n",
       "</table>\n",
       "</div>"
      ],
      "text/plain": [
       "  First Name Last Name  Age     Course\n",
       "0      Rowan    Wilson   22    Physics\n",
       "1  Cassandra     Smith   44      Maths\n",
       "2      Naomi     Jones   63  Computing\n",
       "3        Joe    Bloggs   19      Maths\n",
       "4        Sue      Hunt   21    Physics"
      ]
     },
     "execution_count": 7,
     "metadata": {},
     "output_type": "execute_result"
    }
   ],
   "source": [
    "import pandas as pd\n",
    "\n",
    "# a hardcoded dictionary\n",
    "data = {\n",
    "    \"First Name\": [\"Rowan\", \"Cassandra\", \"Naomi\", \"Joe\", \"Sue\"],\n",
    "    \"Last Name\": [\"Wilson\", \"Smith\", \"Jones\", \"Bloggs\", \"Hunt\"],\n",
    "    \"Age\":  [22, 44, 63, 19, 21],\n",
    "    \"Course\":  [\"Physics\", \"Maths\", \"Computing\", \"Maths\", \"Physics\"]\n",
    "}\n",
    "\n",
    "# load into a DataFrame\n",
    "df = pd.DataFrame(data)\n",
    "df # will print in a Jupyter Notebook with nice formatting (when not using the print() function"
   ]
  },
  {
   "cell_type": "markdown",
   "metadata": {
    "id": "xEOawbfosjyN"
   },
   "source": [
    "### Loading data\n",
    "\n",
    "But what we really want to do is just Pandas to load datasets from file, like so...\n",
    "\n",
    "**OBS:** this assumes that the dataset has been uploaded to the Google Colab environment."
   ]
  },
  {
   "cell_type": "code",
   "execution_count": 8,
   "metadata": {
    "ExecuteTime": {
     "end_time": "2023-10-06T09:51:34.150535Z",
     "start_time": "2023-10-06T09:51:34.115166Z"
    },
    "id": "Z-YjUyZMknQ1"
   },
   "outputs": [],
   "source": [
    "dataset = pd.read_csv('ml-assessment-dataset.csv')"
   ]
  },
  {
   "cell_type": "markdown",
   "metadata": {
    "id": "cIyXzim1tHRM"
   },
   "source": [
    "### Viewing data\n",
    "\n",
    "You can then use functions like ``.head()`` and ``.tail()`` to have a peak at the data, like so..."
   ]
  },
  {
   "cell_type": "code",
   "execution_count": 9,
   "metadata": {
    "id": "ATzjV9hHtKfL"
   },
   "outputs": [
    {
     "data": {
      "text/html": [
       "<div>\n",
       "<style scoped>\n",
       "    .dataframe tbody tr th:only-of-type {\n",
       "        vertical-align: middle;\n",
       "    }\n",
       "\n",
       "    .dataframe tbody tr th {\n",
       "        vertical-align: top;\n",
       "    }\n",
       "\n",
       "    .dataframe thead th {\n",
       "        text-align: right;\n",
       "    }\n",
       "</style>\n",
       "<table border=\"1\" class=\"dataframe\">\n",
       "  <thead>\n",
       "    <tr style=\"text-align: right;\">\n",
       "      <th></th>\n",
       "      <th>L4 mean mark</th>\n",
       "      <th>Did formative assessment</th>\n",
       "      <th>Submitted</th>\n",
       "      <th>Plagiarism</th>\n",
       "      <th>VLE content visited</th>\n",
       "      <th>Lecture engagement</th>\n",
       "      <th>Lab engagement</th>\n",
       "      <th>Classifier impl</th>\n",
       "      <th>Code mark</th>\n",
       "      <th>Report mark</th>\n",
       "      <th>Total mark</th>\n",
       "      <th>Class</th>\n",
       "    </tr>\n",
       "  </thead>\n",
       "  <tbody>\n",
       "    <tr>\n",
       "      <th>0</th>\n",
       "      <td>87</td>\n",
       "      <td>0</td>\n",
       "      <td>1</td>\n",
       "      <td>0</td>\n",
       "      <td>0.15</td>\n",
       "      <td>0.30</td>\n",
       "      <td>0.20</td>\n",
       "      <td>Ensemble</td>\n",
       "      <td>10</td>\n",
       "      <td>35</td>\n",
       "      <td>45</td>\n",
       "      <td>1</td>\n",
       "    </tr>\n",
       "    <tr>\n",
       "      <th>1</th>\n",
       "      <td>83</td>\n",
       "      <td>1</td>\n",
       "      <td>1</td>\n",
       "      <td>0</td>\n",
       "      <td>0.42</td>\n",
       "      <td>0.75</td>\n",
       "      <td>0.50</td>\n",
       "      <td>K-NN</td>\n",
       "      <td>28</td>\n",
       "      <td>68</td>\n",
       "      <td>96</td>\n",
       "      <td>1</td>\n",
       "    </tr>\n",
       "    <tr>\n",
       "      <th>2</th>\n",
       "      <td>75</td>\n",
       "      <td>0</td>\n",
       "      <td>1</td>\n",
       "      <td>0</td>\n",
       "      <td>0.38</td>\n",
       "      <td>1.00</td>\n",
       "      <td>0.80</td>\n",
       "      <td>Ensemble</td>\n",
       "      <td>28</td>\n",
       "      <td>55</td>\n",
       "      <td>83</td>\n",
       "      <td>1</td>\n",
       "    </tr>\n",
       "    <tr>\n",
       "      <th>3</th>\n",
       "      <td>77</td>\n",
       "      <td>1</td>\n",
       "      <td>1</td>\n",
       "      <td>0</td>\n",
       "      <td>0.80</td>\n",
       "      <td>1.00</td>\n",
       "      <td>0.90</td>\n",
       "      <td>Ensemble</td>\n",
       "      <td>30</td>\n",
       "      <td>62</td>\n",
       "      <td>92</td>\n",
       "      <td>1</td>\n",
       "    </tr>\n",
       "    <tr>\n",
       "      <th>4</th>\n",
       "      <td>65</td>\n",
       "      <td>0</td>\n",
       "      <td>1</td>\n",
       "      <td>1</td>\n",
       "      <td>0.34</td>\n",
       "      <td>0.50</td>\n",
       "      <td>0.15</td>\n",
       "      <td>K-NN</td>\n",
       "      <td>0</td>\n",
       "      <td>35</td>\n",
       "      <td>35</td>\n",
       "      <td>0</td>\n",
       "    </tr>\n",
       "  </tbody>\n",
       "</table>\n",
       "</div>"
      ],
      "text/plain": [
       "   L4 mean mark  Did formative assessment  Submitted  Plagiarism  \\\n",
       "0            87                         0          1           0   \n",
       "1            83                         1          1           0   \n",
       "2            75                         0          1           0   \n",
       "3            77                         1          1           0   \n",
       "4            65                         0          1           1   \n",
       "\n",
       "   VLE content visited  Lecture engagement  Lab engagement Classifier impl  \\\n",
       "0                 0.15                0.30            0.20        Ensemble   \n",
       "1                 0.42                0.75            0.50            K-NN   \n",
       "2                 0.38                1.00            0.80        Ensemble   \n",
       "3                 0.80                1.00            0.90        Ensemble   \n",
       "4                 0.34                0.50            0.15            K-NN   \n",
       "\n",
       "   Code mark  Report mark  Total mark  Class  \n",
       "0         10           35          45      1  \n",
       "1         28           68          96      1  \n",
       "2         28           55          83      1  \n",
       "3         30           62          92      1  \n",
       "4          0           35          35      0  "
      ]
     },
     "execution_count": 9,
     "metadata": {},
     "output_type": "execute_result"
    }
   ],
   "source": [
    "dataset.head() # displays the header and top half of the dataset"
   ]
  },
  {
   "cell_type": "code",
   "execution_count": 10,
   "metadata": {
    "ExecuteTime": {
     "end_time": "2023-10-06T09:51:34.158649Z",
     "start_time": "2023-10-06T09:51:34.151809Z"
    },
    "id": "2aau1mjxknQ1"
   },
   "outputs": [
    {
     "data": {
      "text/html": [
       "<div>\n",
       "<style scoped>\n",
       "    .dataframe tbody tr th:only-of-type {\n",
       "        vertical-align: middle;\n",
       "    }\n",
       "\n",
       "    .dataframe tbody tr th {\n",
       "        vertical-align: top;\n",
       "    }\n",
       "\n",
       "    .dataframe thead th {\n",
       "        text-align: right;\n",
       "    }\n",
       "</style>\n",
       "<table border=\"1\" class=\"dataframe\">\n",
       "  <thead>\n",
       "    <tr style=\"text-align: right;\">\n",
       "      <th></th>\n",
       "      <th>L4 mean mark</th>\n",
       "      <th>Did formative assessment</th>\n",
       "      <th>Submitted</th>\n",
       "      <th>Plagiarism</th>\n",
       "      <th>VLE content visited</th>\n",
       "      <th>Lecture engagement</th>\n",
       "      <th>Lab engagement</th>\n",
       "      <th>Classifier impl</th>\n",
       "      <th>Code mark</th>\n",
       "      <th>Report mark</th>\n",
       "      <th>Total mark</th>\n",
       "      <th>Class</th>\n",
       "    </tr>\n",
       "  </thead>\n",
       "  <tbody>\n",
       "    <tr>\n",
       "      <th>50</th>\n",
       "      <td>76</td>\n",
       "      <td>1</td>\n",
       "      <td>1</td>\n",
       "      <td>0</td>\n",
       "      <td>0.37</td>\n",
       "      <td>1.00</td>\n",
       "      <td>0.40</td>\n",
       "      <td>Ensemble</td>\n",
       "      <td>18</td>\n",
       "      <td>63</td>\n",
       "      <td>81</td>\n",
       "      <td>1</td>\n",
       "    </tr>\n",
       "    <tr>\n",
       "      <th>51</th>\n",
       "      <td>91</td>\n",
       "      <td>1</td>\n",
       "      <td>1</td>\n",
       "      <td>0</td>\n",
       "      <td>0.55</td>\n",
       "      <td>0.75</td>\n",
       "      <td>0.75</td>\n",
       "      <td>Ensemble</td>\n",
       "      <td>15</td>\n",
       "      <td>65</td>\n",
       "      <td>80</td>\n",
       "      <td>1</td>\n",
       "    </tr>\n",
       "    <tr>\n",
       "      <th>52</th>\n",
       "      <td>53</td>\n",
       "      <td>0</td>\n",
       "      <td>1</td>\n",
       "      <td>0</td>\n",
       "      <td>0.28</td>\n",
       "      <td>0.75</td>\n",
       "      <td>0.10</td>\n",
       "      <td>NaN</td>\n",
       "      <td>10</td>\n",
       "      <td>20</td>\n",
       "      <td>30</td>\n",
       "      <td>0</td>\n",
       "    </tr>\n",
       "    <tr>\n",
       "      <th>53</th>\n",
       "      <td>69</td>\n",
       "      <td>1</td>\n",
       "      <td>1</td>\n",
       "      <td>0</td>\n",
       "      <td>0.38</td>\n",
       "      <td>0.75</td>\n",
       "      <td>0.25</td>\n",
       "      <td>K-NN</td>\n",
       "      <td>10</td>\n",
       "      <td>40</td>\n",
       "      <td>50</td>\n",
       "      <td>1</td>\n",
       "    </tr>\n",
       "    <tr>\n",
       "      <th>54</th>\n",
       "      <td>55</td>\n",
       "      <td>0</td>\n",
       "      <td>0</td>\n",
       "      <td>1</td>\n",
       "      <td>0.00</td>\n",
       "      <td>0.00</td>\n",
       "      <td>0.00</td>\n",
       "      <td>NaN</td>\n",
       "      <td>0</td>\n",
       "      <td>0</td>\n",
       "      <td>0</td>\n",
       "      <td>0</td>\n",
       "    </tr>\n",
       "    <tr>\n",
       "      <th>55</th>\n",
       "      <td>73</td>\n",
       "      <td>0</td>\n",
       "      <td>1</td>\n",
       "      <td>0</td>\n",
       "      <td>0.28</td>\n",
       "      <td>0.20</td>\n",
       "      <td>0.10</td>\n",
       "      <td>NaN</td>\n",
       "      <td>0</td>\n",
       "      <td>55</td>\n",
       "      <td>55</td>\n",
       "      <td>0</td>\n",
       "    </tr>\n",
       "    <tr>\n",
       "      <th>56</th>\n",
       "      <td>68</td>\n",
       "      <td>0</td>\n",
       "      <td>1</td>\n",
       "      <td>0</td>\n",
       "      <td>0.49</td>\n",
       "      <td>0.75</td>\n",
       "      <td>0.40</td>\n",
       "      <td>K-NN</td>\n",
       "      <td>20</td>\n",
       "      <td>35</td>\n",
       "      <td>55</td>\n",
       "      <td>1</td>\n",
       "    </tr>\n",
       "    <tr>\n",
       "      <th>57</th>\n",
       "      <td>62</td>\n",
       "      <td>0</td>\n",
       "      <td>1</td>\n",
       "      <td>0</td>\n",
       "      <td>0.37</td>\n",
       "      <td>0.25</td>\n",
       "      <td>0.00</td>\n",
       "      <td>Ensemble</td>\n",
       "      <td>25</td>\n",
       "      <td>10</td>\n",
       "      <td>35</td>\n",
       "      <td>0</td>\n",
       "    </tr>\n",
       "    <tr>\n",
       "      <th>58</th>\n",
       "      <td>70</td>\n",
       "      <td>0</td>\n",
       "      <td>1</td>\n",
       "      <td>1</td>\n",
       "      <td>0.39</td>\n",
       "      <td>0.60</td>\n",
       "      <td>0.30</td>\n",
       "      <td>K-NN</td>\n",
       "      <td>5</td>\n",
       "      <td>5</td>\n",
       "      <td>10</td>\n",
       "      <td>0</td>\n",
       "    </tr>\n",
       "    <tr>\n",
       "      <th>59</th>\n",
       "      <td>74</td>\n",
       "      <td>0</td>\n",
       "      <td>1</td>\n",
       "      <td>0</td>\n",
       "      <td>0.50</td>\n",
       "      <td>0.75</td>\n",
       "      <td>0.75</td>\n",
       "      <td>Ensemble</td>\n",
       "      <td>25</td>\n",
       "      <td>45</td>\n",
       "      <td>70</td>\n",
       "      <td>1</td>\n",
       "    </tr>\n",
       "  </tbody>\n",
       "</table>\n",
       "</div>"
      ],
      "text/plain": [
       "    L4 mean mark  Did formative assessment  Submitted  Plagiarism  \\\n",
       "50            76                         1          1           0   \n",
       "51            91                         1          1           0   \n",
       "52            53                         0          1           0   \n",
       "53            69                         1          1           0   \n",
       "54            55                         0          0           1   \n",
       "55            73                         0          1           0   \n",
       "56            68                         0          1           0   \n",
       "57            62                         0          1           0   \n",
       "58            70                         0          1           1   \n",
       "59            74                         0          1           0   \n",
       "\n",
       "    VLE content visited  Lecture engagement  Lab engagement Classifier impl  \\\n",
       "50                 0.37                1.00            0.40        Ensemble   \n",
       "51                 0.55                0.75            0.75        Ensemble   \n",
       "52                 0.28                0.75            0.10             NaN   \n",
       "53                 0.38                0.75            0.25            K-NN   \n",
       "54                 0.00                0.00            0.00             NaN   \n",
       "55                 0.28                0.20            0.10             NaN   \n",
       "56                 0.49                0.75            0.40            K-NN   \n",
       "57                 0.37                0.25            0.00        Ensemble   \n",
       "58                 0.39                0.60            0.30            K-NN   \n",
       "59                 0.50                0.75            0.75        Ensemble   \n",
       "\n",
       "    Code mark  Report mark  Total mark  Class  \n",
       "50         18           63          81      1  \n",
       "51         15           65          80      1  \n",
       "52         10           20          30      0  \n",
       "53         10           40          50      1  \n",
       "54          0            0           0      0  \n",
       "55          0           55          55      0  \n",
       "56         20           35          55      1  \n",
       "57         25           10          35      0  \n",
       "58          5            5          10      0  \n",
       "59         25           45          70      1  "
      ]
     },
     "execution_count": 10,
     "metadata": {},
     "output_type": "execute_result"
    }
   ],
   "source": [
    "dataset.tail(10)"
   ]
  },
  {
   "cell_type": "markdown",
   "metadata": {
    "id": "fn4wPDzsuAFZ"
   },
   "source": [
    "### Task 06 - info and describe\n",
    "\n",
    "The above commands are useful to take a peak at the data, but to get key information about the dataset, your task is to use the ``.info()`` and ``.describe()`` functions and answer the following questions:\n",
    "\n",
    "* How many instances are there in this dataset?\n",
    "* What was the average (mean) 'L4 mean mark'?\n",
    "* What was the highest mark 'Total mark'?"
   ]
  },
  {
   "cell_type": "code",
   "execution_count": 11,
   "metadata": {
    "ExecuteTime": {
     "end_time": "2023-10-06T09:51:34.176304Z",
     "start_time": "2023-10-06T09:51:34.159635Z"
    },
    "id": "uzspvF6vknQ1"
   },
   "outputs": [
    {
     "name": "stdout",
     "output_type": "stream",
     "text": [
      "Number of instances: 60\n",
      "Average L4 mean mark: 71.58333333333333\n",
      "Highest total mark: 100\n"
     ]
    }
   ],
   "source": [
    "\n",
    "# how many instances are in this dataset?\n",
    "print(\"Number of instances:\", dataset.shape[0])\n",
    "\n",
    "#what was the average mean 'L4 mean mark'\n",
    "print(\"Average L4 mean mark:\", dataset['L4 mean mark'].mean())\n",
    "\n",
    "# what was the highest mark 'total mark'\n",
    "print(\"Highest total mark:\", dataset['Total mark'].max())"
   ]
  },
  {
   "cell_type": "markdown",
   "metadata": {
    "id": "Z2CQI96NvvO2"
   },
   "source": [
    "### Transposing dataframes\n",
    "\n",
    "As a bonus, note that you can transpose data frames, which will turn columns into rows for better visibility if you have a dataset with a lot of features."
   ]
  },
  {
   "cell_type": "code",
   "execution_count": 12,
   "metadata": {
    "id": "hlbqDkyXv-mP"
   },
   "outputs": [
    {
     "data": {
      "text/html": [
       "<div>\n",
       "<style scoped>\n",
       "    .dataframe tbody tr th:only-of-type {\n",
       "        vertical-align: middle;\n",
       "    }\n",
       "\n",
       "    .dataframe tbody tr th {\n",
       "        vertical-align: top;\n",
       "    }\n",
       "\n",
       "    .dataframe thead th {\n",
       "        text-align: right;\n",
       "    }\n",
       "</style>\n",
       "<table border=\"1\" class=\"dataframe\">\n",
       "  <thead>\n",
       "    <tr style=\"text-align: right;\">\n",
       "      <th></th>\n",
       "      <th>count</th>\n",
       "      <th>mean</th>\n",
       "      <th>std</th>\n",
       "      <th>min</th>\n",
       "      <th>25%</th>\n",
       "      <th>50%</th>\n",
       "      <th>75%</th>\n",
       "      <th>max</th>\n",
       "    </tr>\n",
       "  </thead>\n",
       "  <tbody>\n",
       "    <tr>\n",
       "      <th>L4 mean mark</th>\n",
       "      <td>60.0</td>\n",
       "      <td>71.583333</td>\n",
       "      <td>10.817894</td>\n",
       "      <td>48.0</td>\n",
       "      <td>65.0000</td>\n",
       "      <td>71.50</td>\n",
       "      <td>77.2500</td>\n",
       "      <td>93.0</td>\n",
       "    </tr>\n",
       "    <tr>\n",
       "      <th>Did formative assessment</th>\n",
       "      <td>60.0</td>\n",
       "      <td>0.300000</td>\n",
       "      <td>0.462125</td>\n",
       "      <td>0.0</td>\n",
       "      <td>0.0000</td>\n",
       "      <td>0.00</td>\n",
       "      <td>1.0000</td>\n",
       "      <td>1.0</td>\n",
       "    </tr>\n",
       "    <tr>\n",
       "      <th>Submitted</th>\n",
       "      <td>60.0</td>\n",
       "      <td>0.766667</td>\n",
       "      <td>0.426522</td>\n",
       "      <td>0.0</td>\n",
       "      <td>1.0000</td>\n",
       "      <td>1.00</td>\n",
       "      <td>1.0000</td>\n",
       "      <td>1.0</td>\n",
       "    </tr>\n",
       "    <tr>\n",
       "      <th>Plagiarism</th>\n",
       "      <td>60.0</td>\n",
       "      <td>0.100000</td>\n",
       "      <td>0.302532</td>\n",
       "      <td>0.0</td>\n",
       "      <td>0.0000</td>\n",
       "      <td>0.00</td>\n",
       "      <td>0.0000</td>\n",
       "      <td>1.0</td>\n",
       "    </tr>\n",
       "    <tr>\n",
       "      <th>VLE content visited</th>\n",
       "      <td>60.0</td>\n",
       "      <td>0.357000</td>\n",
       "      <td>0.201404</td>\n",
       "      <td>0.0</td>\n",
       "      <td>0.2725</td>\n",
       "      <td>0.34</td>\n",
       "      <td>0.4125</td>\n",
       "      <td>1.0</td>\n",
       "    </tr>\n",
       "    <tr>\n",
       "      <th>Lecture engagement</th>\n",
       "      <td>60.0</td>\n",
       "      <td>0.590000</td>\n",
       "      <td>0.322438</td>\n",
       "      <td>0.0</td>\n",
       "      <td>0.2500</td>\n",
       "      <td>0.75</td>\n",
       "      <td>0.8625</td>\n",
       "      <td>1.0</td>\n",
       "    </tr>\n",
       "    <tr>\n",
       "      <th>Lab engagement</th>\n",
       "      <td>60.0</td>\n",
       "      <td>0.360833</td>\n",
       "      <td>0.289519</td>\n",
       "      <td>0.0</td>\n",
       "      <td>0.1000</td>\n",
       "      <td>0.30</td>\n",
       "      <td>0.5000</td>\n",
       "      <td>1.0</td>\n",
       "    </tr>\n",
       "    <tr>\n",
       "      <th>Code mark</th>\n",
       "      <td>60.0</td>\n",
       "      <td>12.700000</td>\n",
       "      <td>11.119231</td>\n",
       "      <td>0.0</td>\n",
       "      <td>0.0000</td>\n",
       "      <td>11.00</td>\n",
       "      <td>23.0000</td>\n",
       "      <td>30.0</td>\n",
       "    </tr>\n",
       "    <tr>\n",
       "      <th>Report mark</th>\n",
       "      <td>60.0</td>\n",
       "      <td>31.800000</td>\n",
       "      <td>24.778203</td>\n",
       "      <td>0.0</td>\n",
       "      <td>5.0000</td>\n",
       "      <td>33.50</td>\n",
       "      <td>55.5000</td>\n",
       "      <td>70.0</td>\n",
       "    </tr>\n",
       "    <tr>\n",
       "      <th>Total mark</th>\n",
       "      <td>60.0</td>\n",
       "      <td>44.500000</td>\n",
       "      <td>34.374064</td>\n",
       "      <td>0.0</td>\n",
       "      <td>9.5000</td>\n",
       "      <td>43.00</td>\n",
       "      <td>78.5000</td>\n",
       "      <td>100.0</td>\n",
       "    </tr>\n",
       "    <tr>\n",
       "      <th>Class</th>\n",
       "      <td>60.0</td>\n",
       "      <td>0.500000</td>\n",
       "      <td>0.504219</td>\n",
       "      <td>0.0</td>\n",
       "      <td>0.0000</td>\n",
       "      <td>0.50</td>\n",
       "      <td>1.0000</td>\n",
       "      <td>1.0</td>\n",
       "    </tr>\n",
       "  </tbody>\n",
       "</table>\n",
       "</div>"
      ],
      "text/plain": [
       "                          count       mean        std   min      25%    50%  \\\n",
       "L4 mean mark               60.0  71.583333  10.817894  48.0  65.0000  71.50   \n",
       "Did formative assessment   60.0   0.300000   0.462125   0.0   0.0000   0.00   \n",
       "Submitted                  60.0   0.766667   0.426522   0.0   1.0000   1.00   \n",
       "Plagiarism                 60.0   0.100000   0.302532   0.0   0.0000   0.00   \n",
       "VLE content visited        60.0   0.357000   0.201404   0.0   0.2725   0.34   \n",
       "Lecture engagement         60.0   0.590000   0.322438   0.0   0.2500   0.75   \n",
       "Lab engagement             60.0   0.360833   0.289519   0.0   0.1000   0.30   \n",
       "Code mark                  60.0  12.700000  11.119231   0.0   0.0000  11.00   \n",
       "Report mark                60.0  31.800000  24.778203   0.0   5.0000  33.50   \n",
       "Total mark                 60.0  44.500000  34.374064   0.0   9.5000  43.00   \n",
       "Class                      60.0   0.500000   0.504219   0.0   0.0000   0.50   \n",
       "\n",
       "                              75%    max  \n",
       "L4 mean mark              77.2500   93.0  \n",
       "Did formative assessment   1.0000    1.0  \n",
       "Submitted                  1.0000    1.0  \n",
       "Plagiarism                 0.0000    1.0  \n",
       "VLE content visited        0.4125    1.0  \n",
       "Lecture engagement         0.8625    1.0  \n",
       "Lab engagement             0.5000    1.0  \n",
       "Code mark                 23.0000   30.0  \n",
       "Report mark               55.5000   70.0  \n",
       "Total mark                78.5000  100.0  \n",
       "Class                      1.0000    1.0  "
      ]
     },
     "execution_count": 12,
     "metadata": {},
     "output_type": "execute_result"
    }
   ],
   "source": [
    "dataset.describe().T"
   ]
  },
  {
   "cell_type": "markdown",
   "metadata": {
    "id": "fGTPDJQhw0IJ"
   },
   "source": [
    "### Examining specific columns/features\n",
    "\n",
    "If you want details about a specific column/feature, you can do so like an array:"
   ]
  },
  {
   "cell_type": "code",
   "execution_count": 13,
   "metadata": {
    "ExecuteTime": {
     "end_time": "2023-10-06T09:51:34.180328Z",
     "start_time": "2023-10-06T09:51:34.177136Z"
    },
    "id": "GAhRsw80knQ2"
   },
   "outputs": [
    {
     "name": "stdout",
     "output_type": "stream",
     "text": [
      "\n",
      "Average total mark: 44.5\n"
     ]
    }
   ],
   "source": [
    "print(\"\\nAverage total mark:\", dataset['Total mark'].mean())"
   ]
  },
  {
   "cell_type": "markdown",
   "metadata": {
    "id": "DDh1nxRHwLrw"
   },
   "source": [
    "### The class ...\n",
    "\n",
    "The 'class' is a common name of the feature/column used for Machine Learning classification.\n",
    "* In this example, the class represents whether a student passed (1) or failed (0).\n",
    "* In a medical dataset, the class could be whether a patient has a particular health condition or not, etc.\n",
    "\n",
    "In this case, using the ``.value_counts()`` function for the ``Class`` column will tell us how many passed (1) vs failed (0)."
   ]
  },
  {
   "cell_type": "code",
   "execution_count": 14,
   "metadata": {
    "id": "NPFtEc1vwlRz"
   },
   "outputs": [
    {
     "data": {
      "text/plain": [
       "Class\n",
       "1    30\n",
       "0    30\n",
       "Name: count, dtype: int64"
      ]
     },
     "execution_count": 14,
     "metadata": {},
     "output_type": "execute_result"
    }
   ],
   "source": [
    "dataset['Class'].value_counts()"
   ]
  },
  {
   "cell_type": "markdown",
   "metadata": {
    "id": "zj7taw1-knQ2"
   },
   "source": [
    "## Matplotlib (via Pandas)\n",
    "\n",
    "Visualisation of data in Pandas DataFrames uses ``matplotlib`` behind the scenes."
   ]
  },
  {
   "cell_type": "markdown",
   "metadata": {
    "id": "l-lQRfW51D_G"
   },
   "source": [
    "### Using .plot()\n",
    "\n",
    "We can call the ``.plot()`` function directly on a pandas dataframe or a specific column (like we did above)."
   ]
  },
  {
   "cell_type": "code",
   "execution_count": 15,
   "metadata": {
    "ExecuteTime": {
     "end_time": "2023-10-06T09:51:36.489565Z",
     "start_time": "2023-10-06T09:51:36.437462Z"
    },
    "id": "yeowp5yyknQ3"
   },
   "outputs": [
    {
     "data": {
      "text/plain": [
       "<Axes: title={'center': 'Class distribution'}, xlabel='Class'>"
      ]
     },
     "execution_count": 15,
     "metadata": {},
     "output_type": "execute_result"
    },
    {
     "data": {
      "image/png": "[encoded data removed]",
      "text/plain": [
       "<Figure size 640x480 with 1 Axes>"
      ]
     },
     "metadata": {},
     "output_type": "display_data"
    }
   ],
   "source": [
    "# a bar chart for the 'class' distribution\n",
    "dataset['Class'].value_counts().plot(kind='bar', title='Class distribution')"
   ]
  },
  {
   "cell_type": "markdown",
   "metadata": {
    "id": "18A2Pe7J0Vnb"
   },
   "source": [
    "### Task 07 - pie\n",
    "\n",
    "Copy and modify the code above to plot the class distribution as a pie chart instead.\n"
   ]
  },
  {
   "cell_type": "code",
   "execution_count": 16,
   "metadata": {
    "id": "u75m7R210sU_"
   },
   "outputs": [
    {
     "data": {
      "text/plain": [
       "<Axes: title={'center': 'Class distribution'}, ylabel='count'>"
      ]
     },
     "execution_count": 16,
     "metadata": {},
     "output_type": "execute_result"
    },
    {
     "data": {
      "image/png": "[encoded data removed]",
      "text/plain": [
       "<Figure size 640x480 with 1 Axes>"
      ]
     },
     "metadata": {},
     "output_type": "display_data"
    }
   ],
   "source": [
    "## pichart\n",
    "dataset['Class'].value_counts().plot(kind='pie', title='Class distribution')\n"
   ]
  },
  {
   "cell_type": "markdown",
   "metadata": {
    "id": "jDp15CTM1RuH"
   },
   "source": [
    "### Task 08 - w/o value_counts()\n",
    "\n",
    "What happens if you don't do the ``value_counts()`` when ploting a **bar** chart of the ``Class`` column/feature?\n",
    "\n",
    "What is this actually showing us?!"
   ]
  },
  {
   "cell_type": "code",
   "execution_count": 17,
   "metadata": {
    "id": "v0VVj7CD1djS"
   },
   "outputs": [
    {
     "data": {
      "text/plain": [
       "<Axes: >"
      ]
     },
     "execution_count": 17,
     "metadata": {},
     "output_type": "execute_result"
    },
    {
     "data": {
      "image/png": "[encoded data removed]",
      "text/plain": [
       "<Figure size 640x480 with 1 Axes>"
      ]
     },
     "metadata": {},
     "output_type": "display_data"
    }
   ],
   "source": [
    "# a bar chart for the 'class' feature w/o value_counts\n",
    "dataset['Class'].plot(kind='bar') "
   ]
  },
  {
   "cell_type": "markdown",
   "metadata": {
    "id": "Jtrc9o392J02"
   },
   "source": [
    "### Line chart\n",
    "\n",
    "Line charts are great for temporal data, like we showed an example of in the lecture for the number of movies sold each year.\n",
    "\n",
    "For this dataset, there's no column/feature that really lends itself to a line chart... Sad times..."
   ]
  },
  {
   "cell_type": "markdown",
   "metadata": {
    "id": "QmqYvJnY2Nhr"
   },
   "source": [
    "### Histogram\n",
    "\n",
    "However, we have many columns/features that are excellent candidates for a histogram!\n",
    "\n",
    "For example, the ``L4 mean mark``:\n",
    "\n"
   ]
  },
  {
   "cell_type": "code",
   "execution_count": 18,
   "metadata": {
    "id": "IkoyNzX12RP2"
   },
   "outputs": [
    {
     "data": {
      "text/plain": [
       "<Axes: ylabel='Frequency'>"
      ]
     },
     "execution_count": 18,
     "metadata": {},
     "output_type": "execute_result"
    },
    {
     "data": {
      "image/png": "[encoded data removed]",
      "text/plain": [
       "<Figure size 640x480 with 1 Axes>"
      ]
     },
     "metadata": {},
     "output_type": "display_data"
    }
   ],
   "source": [
    "# a histogram for the 'L4 mean mark' feature\n",
    "dataset['L4 mean mark'].plot(kind='hist')"
   ]
  },
  {
   "cell_type": "markdown",
   "metadata": {
    "id": "-9pPeARZ47aH"
   },
   "source": [
    "### Task 09 - Histogram\n",
    "\n",
    "Create another histogram in the code cell below for another feature of your choosing.\n",
    "\n",
    "**OBS:** Have a look at the column/feature names above, and ensure that you write/copy exactly as it's case sensitive."
   ]
  },
  {
   "cell_type": "code",
   "execution_count": 19,
   "metadata": {
    "id": "_kuKi5bU4zhm"
   },
   "outputs": [
    {
     "data": {
      "text/plain": [
       "<Axes: ylabel='Frequency'>"
      ]
     },
     "execution_count": 19,
     "metadata": {},
     "output_type": "execute_result"
    },
    {
     "data": {
      "image/png": "[encoded data removed]",
      "text/plain": [
       "<Figure size 640x480 with 1 Axes>"
      ]
     },
     "metadata": {},
     "output_type": "display_data"
    }
   ],
   "source": [
    "## histogram \n",
    "dataset['Total mark'].plot(kind='hist')\n",
    "\n"
   ]
  },
  {
   "cell_type": "markdown",
   "metadata": {
    "id": "_tnYfCyV2Rbl"
   },
   "source": [
    "### Scatter plot\n",
    "\n",
    "Final chart type for this week is the scatter plot.\n",
    "\n",
    "There's one key difference when using this kind of plot, as you need to a) call ``plot()`` directly on the dataframe, and b) specify the two columns you want to choose as function parameters ``x`` and ``y``.\n",
    "\n",
    "For example, the following is a useful scatter plot to look at the trend in data between the average mark in Level 4 vs the mark in this unit (in Level 5)."
   ]
  },
  {
   "cell_type": "code",
   "execution_count": 20,
   "metadata": {
    "ExecuteTime": {
     "end_time": "2023-10-06T09:51:36.436661Z",
     "start_time": "2023-10-06T09:51:36.372595Z"
    },
    "id": "QrBKyvg3knQ3"
   },
   "outputs": [
    {
     "data": {
      "text/plain": [
       "<Axes: xlabel='L4 mean mark', ylabel='Total mark'>"
      ]
     },
     "execution_count": 20,
     "metadata": {},
     "output_type": "execute_result"
    },
    {
     "data": {
      "image/png": "[encoded data removed]",
      "text/plain": [
       "<Figure size 640x480 with 1 Axes>"
      ]
     },
     "metadata": {},
     "output_type": "display_data"
    }
   ],
   "source": [
    "# a simple scatter plot for two numeric features\n",
    "dataset.plot(kind='scatter', x='L4 mean mark', y='Total mark')"
   ]
  },
  {
   "cell_type": "markdown",
   "metadata": {
    "id": "_hmOQ-ZA2VzK"
   },
   "source": [
    "### Customising charts - Bonus Task\n",
    "\n",
    "For most charts, you can customise key aspects of charts. However, note that it is more limited when using the ``.plot()`` function in Pandas. We'll use ``Matplotlib`` directly next week for more customised charts.\n",
    "\n",
    "For now, as a bonus activity, pick one or more of your charts above and customise the following:\n",
    "\n",
    "* Title\n",
    "* Labels for x and y axes\n",
    "* Min/max ranges for the x/y axes"
   ]
  },
  {
   "cell_type": "code",
   "execution_count": 21,
   "metadata": {
    "ExecuteTime": {
     "end_time": "2023-10-06T09:51:36.371584Z",
     "start_time": "2023-10-06T09:51:36.093521Z"
    },
    "id": "HDh4geNjknQ2"
   },
   "outputs": [
    {
     "data": {
      "text/plain": [
       "<Axes: title={'center': 'L4 mean mark vs Total mark'}, xlabel='L4 mean mark', ylabel='Total mark'>"
      ]
     },
     "execution_count": 21,
     "metadata": {},
     "output_type": "execute_result"
    },
    {
     "data": {
      "image/png": "[encoded data removed]",
      "text/plain": [
       "<Figure size 640x480 with 1 Axes>"
      ]
     },
     "metadata": {},
     "output_type": "display_data"
    }
   ],
   "source": [
    "## pick a title, labels x/y and min/max ranges for axis on a chart\n",
    "\n",
    "# a simple scatter plot for two numeric features\n",
    "dataset.plot(kind='scatter', x='L4 mean mark', y='Total mark', \n",
    "             title='L4 mean mark vs Total mark',\n",
    "             xlabel='L4 mean mark',\n",
    "             ylabel='Total mark',\n",
    "             xlim=(0,100),\n",
    "             ylim=(0,100)\n",
    "            )\n",
    "\n"
   ]
  }
 ],
 "metadata": {
  "colab": {
   "provenance": []
  },
  "kernelspec": {
   "display_name": ".venv",
   "language": "python",
   "name": "python3"
  },
  "language_info": {
   "codemirror_mode": {
    "name": "ipython",
    "version": 3
   },
   "file_extension": ".py",
   "mimetype": "text/x-python",
   "name": "python",
   "nbconvert_exporter": "python",
   "pygments_lexer": "ipython3",
   "version": "3.12.3"
  },
  "toc": {
   "base_numbering": 1,
   "nav_menu": {},
   "number_sections": true,
   "sideBar": true,
   "skip_h1_title": false,
   "title_cell": "Table of Contents",
   "title_sidebar": "Contents",
   "toc_cell": false,
   "toc_position": {
    "height": "calc(100% - 180px)",
    "left": "10px",
    "top": "150px",
    "width": "384px"
   },
   "toc_section_display": true,
   "toc_window_display": true
  },
  "varInspector": {
   "cols": {
    "lenName": 16,
    "lenType": 16,
    "lenVar": 40
   },
   "kernels_config": {
    "python": {
     "delete_cmd_postfix": "",
     "delete_cmd_prefix": "del ",
     "library": "var_list.py",
     "varRefreshCmd": "print(var_dic_list())"
    },
    "r": {
     "delete_cmd_postfix": ") ",
     "delete_cmd_prefix": "rm(",
     "library": "var_list.r",
     "varRefreshCmd": "cat(var_dic_list()) "
    }
   },
   "types_to_exclude": [
    "module",
    "function",
    "builtin_function_or_method",
    "instance",
    "_Feature"
   ],
   "window_display": false
  }
 },
 "nbformat": 4,
 "nbformat_minor": 0
}
