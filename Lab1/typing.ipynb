{
  "cells": [
    {
      "cell_type": "markdown",
      "id": "ba01845e",
      "metadata": {
        "id": "ba01845e"
      },
      "source": [
        "# 📘 Notebook 2: Variables and Python’s Dynamic Typing\n",
        "This notebook helps you review how variables work in Python and how Python handles types dynamically.\n",
        "\n",
        "### 🧠 Why This Matters for Machine Learning\n",
        "When working with data, models, and parameters, you’ll frequently assign and reassign variables. Python's dynamic typing makes it flexible, but it’s important to understand how types work to avoid bugs."
      ]
    },
    {
      "cell_type": "markdown",
      "id": "b2f96d31",
      "metadata": {
        "id": "b2f96d31"
      },
      "source": [
        "## 🧪 Recap: Variables and Types\n",
        "- Variables store data that you can reuse.\n",
        "- You do not need to declare a type in Python—it is inferred from the assigned value.\n",
        "  - e.g., ``x = 10`` will automatically become an ``int``\n",
        "  - e.g., ``x = 10.0`` will automatically become a ``float``\n",
        "- You can use the `type()` function to check the type.\n",
        "- You can reassign a variable to a value of a different type.\n",
        "  - e.g., ``x = 10`` (int), and then later ``x = \"blah\"`` (string)"
      ]
    },
    {
      "cell_type": "code",
      "execution_count": null,
      "id": "62a4c3c7",
      "metadata": {
        "id": "62a4c3c7"
      },
      "outputs": [],
      "source": [
        "# Variable assignment\n",
        "x = 10\n",
        "print(x)\n",
        "print(type(x))\n",
        "\n",
        "# Reassign to a different type\n",
        "x = \"now I'm a string!\"\n",
        "print(x)\n",
        "print(type(x))"
      ]
    },
    {
      "cell_type": "markdown",
      "id": "ZnPjrsaGcguI",
      "metadata": {
        "id": "ZnPjrsaGcguI"
      },
      "source": [
        "To assign a float value, just use decimal points, e.g.,\n",
        "\n",
        "```python\n",
        "x = 10.10\n",
        "```\n",
        "\n",
        "To assign a boolean value, you can use ``True`` or ``False`` (capitalisation is important), e.g.,\n",
        "\n",
        "```python\n",
        "x = True\n",
        "```"
      ]
    },
    {
      "cell_type": "markdown",
      "id": "8acd273a",
      "metadata": {
        "id": "8acd273a"
      },
      "source": [
        "### 🎤 Getting Input from Users\n",
        "You can use the `input()` function to ask the user to type something. **It always returns a string**.\n",
        "\n",
        "This is good when you want to have an interactive program that takes input from a user. For example, to have a dynamic way of having a user say how many times they want to train and test a machine learning model. The more the comprehensive and reliable the results would be, but it would take longer.\n",
        "\n",
        "**Code example:**"
      ]
    },
    {
      "cell_type": "code",
      "execution_count": null,
      "id": "e3287935",
      "metadata": {
        "id": "e3287935"
      },
      "outputs": [],
      "source": [
        "# Example of using input()\n",
        "# Uncomment/comment the different lines below to run interactively\n",
        "\n",
        "name = input(\"What is your name? \")\n",
        "print(f\"Nice to meet you, {name}!\")\n",
        "print(\"Type returned:\", type(name))"
      ]
    },
    {
      "cell_type": "markdown",
      "id": "itnq0DUwdhzZ",
      "metadata": {
        "id": "itnq0DUwdhzZ"
      },
      "source": [
        "### 🔄 Casting Variables to a Specific Type\n",
        "You can convert (cast) a variable from one type to another using functions like `int()`, `float()`, `str()`, and `bool()`.\n",
        "\n",
        "In the example above, if you actually ask a user to ``input()`` a number the function will always return that as a string. You can then cast the string into an int or a float, depending on what you need.\n",
        "\n",
        "**Examples:**\n",
        "- ``int(x)`` or ``float(x)`` converts a string ``x`` to an integer or float\n",
        "- ``bool(x)`` converts an integer  ``x`` to a boolean"
      ]
    },
    {
      "cell_type": "code",
      "execution_count": null,
      "id": "PUj5Y5p-dlIY",
      "metadata": {
        "id": "PUj5Y5p-dlIY"
      },
      "outputs": [],
      "source": [
        "# Example of casting\n",
        "temperature_str = \"15\"\n",
        "temperature_int = int(temperature_str) # this would throw an exception if the string was not an int, e.g., if it was 15.5\n",
        "temperature_float = float(temperature_str)\n",
        "print(\"Temperature as int:\", temperature_int)\n",
        "print(\"Temperature as float:\", temperature_float)\n",
        "\n",
        "# Casting an int to a boolean\n",
        "value = 0\n",
        "print(\"Boolean of 0:\", bool(value))\n",
        "value = 1\n",
        "print(\"Boolean of 1:\", bool(value))\n",
        "value = 5\n",
        "print(\"Boolean of 5:\", bool(value))"
      ]
    },
    {
      "cell_type": "markdown",
      "id": "2d9329f8",
      "metadata": {
        "id": "2d9329f8"
      },
      "source": [
        "## 🎯 Tasks: Try it Yourself"
      ]
    },
    {
      "cell_type": "markdown",
      "id": "1fa454f0",
      "metadata": {
        "id": "1fa454f0"
      },
      "source": [
        "1. Assign a variable to an integer, then reassign it to a string, and print its type each time."
      ]
    },
    {
      "cell_type": "code",
      "execution_count": null,
      "id": "a4a656d0",
      "metadata": {
        "id": "a4a656d0"
      },
      "outputs": [],
      "source": [
        "variable = 1\n",
        "print(type(variable))\n",
        "print(\"integer to string:\", str(variable))\n",
        "print(type(variable))"
      ]
    },
    {
      "cell_type": "markdown",
      "id": "d423dde0",
      "metadata": {
        "id": "d423dde0"
      },
      "source": [
        "2. Use `input()` to ask the user for their age, print the type, then convert it to an integer and print again."
      ]
    },
    {
      "cell_type": "code",
      "execution_count": null,
      "id": "a5356525",
      "metadata": {
        "id": "a5356525"
      },
      "outputs": [],
      "source": [
        "\n",
        "variable = input(\"Enter age: \")\n",
        "print(type(variable))\n",
        "variable = int(variable)\n",
        "print(type(variable))\n"
      ]
    },
    {
      "cell_type": "markdown",
      "id": "30337910",
      "metadata": {
        "id": "30337910"
      },
      "source": [
        "3. Assign a float and a boolean to two different variables. Print their values and types."
      ]
    },
    {
      "cell_type": "code",
      "execution_count": null,
      "id": "c3dc395a",
      "metadata": {
        "id": "c3dc395a"
      },
      "outputs": [],
      "source": [
        "float_variable = 1.0\n",
        "bool_variable = True\n",
        "print(type(float_variable),float_variable)\n",
        "print(type(bool_variable),bool_variable)"
      ]
    },
    {
      "cell_type": "markdown",
      "id": "80f84090",
      "metadata": {
        "id": "80f84090"
      },
      "source": [
        "## 💥 Mini Challenge\n",
        "Create a program that takes **user input** for a ``name`` and ``number of epochs`` (as string), converts the number of epochs to an integer, and prints a message like:\n",
        "\n",
        "`Thanks John, training model for 10 epochs...`\n",
        "\n",
        "**PS:** epoch is a term used in Machine Learning for how long we train models like Artificial Neural Networks. You'll learn more about this later!"
      ]
    },
    {
      "cell_type": "code",
      "execution_count": null,
      "id": "28e10f2c",
      "metadata": {
        "id": "28e10f2c"
      },
      "outputs": [],
      "source": [
        "# Mini Challenge\n",
        "name = input(\"Enter your name: \")\n",
        "epochs = input(\"Enter number of epochs: \")\n",
        "epochs = int(epochs)\n",
        "print(f\"Thanks {name}, training model for {epochs} epochs...\")"
      ]
    },
    {
      "cell_type": "markdown",
      "id": "076a139e",
      "metadata": {
        "id": "076a139e"
      },
      "source": [
        "## 🤔 Reflection\n",
        "- How could changing variable types unexpectedly cause errors in your code?\n",
        "- Why is it useful to convert types explicitly when taking user input? E.g., from a string to a number (int or float)."
      ]
    },
    {
      "cell_type": "markdown",
      "id": "a13a75f5",
      "metadata": {
        "id": "a13a75f5"
      },
      "source": [
        "## ✅ Solutions (Click to Expand)"
      ]
    },
    {
      "cell_type": "code",
      "execution_count": null,
      "id": "5972ed3c",
      "metadata": {
        "id": "5972ed3c"
      },
      "outputs": [],
      "source": [
        "# Task 1\n",
        "var = 7\n",
        "print(var)\n",
        "print(type(var))\n",
        "var = \"seven\"\n",
        "print(var)\n",
        "print(type(var))"
      ]
    },
    {
      "cell_type": "code",
      "execution_count": null,
      "id": "DAHS4WDJcA6j",
      "metadata": {
        "id": "DAHS4WDJcA6j"
      },
      "outputs": [],
      "source": [
        "# Task 2\n",
        "age = input(\"Enter your age: \")  # Uncomment for interactive run\n",
        "print(type(age))\n",
        "age = int(age)\n",
        "print(type(age))"
      ]
    },
    {
      "cell_type": "code",
      "execution_count": null,
      "id": "GTdSe39JcBAL",
      "metadata": {
        "id": "GTdSe39JcBAL"
      },
      "outputs": [],
      "source": [
        "# Task 3\n",
        "x = 3.14\n",
        "y = True\n",
        "print(x, type(x))\n",
        "print(y, type(y))"
      ]
    },
    {
      "cell_type": "code",
      "execution_count": null,
      "id": "91B01cbZcBFN",
      "metadata": {
        "id": "91B01cbZcBFN"
      },
      "outputs": [],
      "source": [
        "# Mini Challenge\n",
        "name = input(\"Enter your name: \")\n",
        "epochs = input(\"Enter number of epochs: \")\n",
        "epochs = int(epochs)\n",
        "print(f\"Thanks {name}, training model for {epochs} epochs...\")"
      ]
    }
  ],
  "metadata": {
    "colab": {
      "collapsed_sections": [
        "a13a75f5"
      ],
      "provenance": []
    },
    "kernelspec": {
      "display_name": "Python 3",
      "name": "python3"
    },
    "language_info": {
      "name": "python"
    }
  },
  "nbformat": 4,
  "nbformat_minor": 5
}
