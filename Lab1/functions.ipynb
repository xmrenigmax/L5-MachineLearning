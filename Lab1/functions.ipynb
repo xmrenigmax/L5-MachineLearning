{
  "cells": [
    {
      "cell_type": "markdown",
      "id": "4c95dbcf",
      "metadata": {
        "id": "4c95dbcf"
      },
      "source": [
        "# 📘 Notebook 6: Functions – Use and Create\n",
        "In this notebook, you'll revise how to use built-in functions and how to define your own.\n",
        "\n",
        "### 🧠 Why This Matters for Machine Learning\n",
        "Functions allow you to write modular, reusable code – great for model evaluation, preprocessing, or wrapping algorithms."
      ]
    },
    {
      "cell_type": "markdown",
      "id": "a8a1ae8a",
      "metadata": {
        "id": "a8a1ae8a"
      },
      "source": [
        "## 🧰 Using Built-In Functions\n",
        "- Python includes many built-in functions to perform common tasks.\n",
        "- You can use them directly without importing any libraries.\n",
        "\n",
        "**Examples of built-in functions used previously:**\n",
        "- `print()`: Displays output to the screen.\n",
        "- `input()`: Captures user input as a string. You can then convert it to other types using `int()`, `float()`, etc.\n",
        "- `range()`: Generates a sequence of numbers, commonly used in loops.\n",
        "- `len()`: Returns the number of items in a list, tuple, or other container.\n",
        "\n",
        "**Example:**\n",
        "```python\n",
        "name = input(\"Enter your name: \")\n",
        "print(f\"Hello, {name}!\")\n",
        "\n",
        "models = [\"SVM\", \"KNN\", \"Tree\"]\n",
        "for i in range(len(models)):\n",
        "    print(f\"Model {i+1}: {models[i]}\")\n",
        "```"
      ]
    },
    {
      "cell_type": "code",
      "execution_count": null,
      "id": "8da0f340",
      "metadata": {
        "id": "8da0f340"
      },
      "outputs": [],
      "source": [
        "# Example: Using built-in functions\n",
        "values = [0.5, 0.75, 0.95]\n",
        "print(\"Max value:\", max(values))\n",
        "print(\"Rounded value:\", round(0.753, 2))"
      ]
    },
    {
      "cell_type": "markdown",
      "id": "2831d67c",
      "metadata": {
        "id": "2831d67c"
      },
      "source": [
        "## 🧪 Using Functions from Libraries\n",
        "- Libraries like `math`, `numpy`, and `sklearn` come with useful functions.\n",
        "- You need to import the library or function first."
      ]
    },
    {
      "cell_type": "code",
      "execution_count": null,
      "id": "b4810837",
      "metadata": {
        "id": "b4810837"
      },
      "outputs": [],
      "source": [
        "import numpy as np\n",
        "import math\n",
        "\n",
        "# NumPy mean and square root\n",
        "data = np.array([1.2, 2.5, 3.8])\n",
        "print(\"Mean:\", np.mean(data))\n",
        "print(\"Square root of first item:\", math.sqrt(data[0]))"
      ]
    },
    {
      "cell_type": "markdown",
      "id": "3a904cb3",
      "metadata": {
        "id": "3a904cb3"
      },
      "source": [
        "## 🛠️ Defining Your Own Function\n",
        "Functions allow you to wrap up code into reusable blocks.\n",
        "\n",
        "**Key parts of a function:**\n",
        "- Use `def` to define it.\n",
        "- Optionally include input parameters inside parentheses.\n",
        "- Use `return` to send back a result (or results).\n",
        "\n",
        "**Types of functions:**\n",
        "- No parameters, no return:\n",
        "```python\n",
        "def greet():\n",
        "    print(\"Hello there!\")\n",
        "```\n",
        "\n",
        "- With parameters, no return:\n",
        "```python\n",
        "def display_accuracy(acc):\n",
        "    print(f\"Model accuracy: {acc:.2f}%\")\n",
        "```\n",
        "\n",
        "- With parameters and a return value:\n",
        "```python\n",
        "def square(x):\n",
        "    return x * x\n",
        "```\n",
        "\n",
        "- With multiple parameters and a return value:\n",
        "```python\n",
        "def add(a, b):\n",
        "    return a + b\n",
        "```\n",
        "\n",
        "- With multiple return values:\n",
        "```python\n",
        "def get_metrics(scores):\n",
        "    return min(scores), max(scores)\n",
        "```"
      ]
    },
    {
      "cell_type": "code",
      "execution_count": null,
      "id": "26381d4d",
      "metadata": {
        "id": "26381d4d"
      },
      "outputs": [],
      "source": [
        "# Example: Define and use a function that calculates the accuracy of a Machine Learning model\n",
        "# PS: this is based on knowing the total number of test cases and how many the model got correct\n",
        "def calculate_accuracy(correct, total):\n",
        "    return correct / total * 100\n",
        "\n",
        "total_test_cases = 50\n",
        "correct_test_cases = 44\n",
        "\n",
        "acc = calculate_accuracy(correct_test_cases, total_test_cases)\n",
        "\n",
        "print(f\"Accuracy: {acc:.2f}%\")"
      ]
    },
    {
      "cell_type": "markdown",
      "id": "11630af6",
      "metadata": {
        "id": "11630af6"
      },
      "source": [
        "## 🎯 Tasks: Try it Yourself"
      ]
    },
    {
      "cell_type": "markdown",
      "id": "b598fbcc",
      "metadata": {
        "id": "b598fbcc"
      },
      "source": [
        "1. Use `math.log()` to calculate the natural logarithm of 10, and `round()` to round it to 2 decimal places."
      ]
    },
    {
      "cell_type": "code",
      "execution_count": null,
      "id": "163fd1bb",
      "metadata": {
        "id": "163fd1bb"
      },
      "outputs": [],
      "source": [
        "log_value = math.log(10)\n",
        "\n",
        "print(f\"log value rounded : {round(log_value,2)}\")"
      ]
    },
    {
      "cell_type": "markdown",
      "id": "267e4f5c",
      "metadata": {
        "id": "267e4f5c"
      },
      "source": [
        "2. Write a function that takes a list of numbers and returns the average and maximum values."
      ]
    },
    {
      "cell_type": "code",
      "execution_count": 3,
      "id": "84b65129",
      "metadata": {
        "id": "84b65129"
      },
      "outputs": [
        {
          "ename": "KeyboardInterrupt",
          "evalue": "Interrupted by user",
          "output_type": "error",
          "traceback": [
            "\u001b[31m---------------------------------------------------------------------------\u001b[39m",
            "\u001b[31mKeyboardInterrupt\u001b[39m                         Traceback (most recent call last)",
            "\u001b[36mCell\u001b[39m\u001b[36m \u001b[39m\u001b[32mIn[3]\u001b[39m\u001b[32m, line 4\u001b[39m\n\u001b[32m      2\u001b[39m store = []\n\u001b[32m      3\u001b[39m \u001b[38;5;28;01mfor\u001b[39;00m i \u001b[38;5;129;01min\u001b[39;00m \u001b[38;5;28mrange\u001b[39m(\u001b[32m5\u001b[39m):\n\u001b[32m----> \u001b[39m\u001b[32m4\u001b[39m     average = \u001b[38;5;28;43minput\u001b[39;49m\u001b[43m(\u001b[49m\u001b[33;43mf\u001b[39;49m\u001b[33;43m\"\u001b[39;49m\u001b[33;43mEnter numbers to find average \u001b[39;49m\u001b[38;5;132;43;01m{\u001b[39;49;00m\u001b[43mi\u001b[49m\u001b[43m+\u001b[49m\u001b[32;43m1\u001b[39;49m\u001b[38;5;132;43;01m}\u001b[39;49;00m\u001b[33;43m: \u001b[39;49m\u001b[33;43m\"\u001b[39;49m\u001b[43m)\u001b[49m\n\u001b[32m      5\u001b[39m     store.append(average)\n\u001b[32m      7\u001b[39m avg = np.mean(store), \u001b[38;5;28mmax\u001b[39m(store)\n",
            "\u001b[36mFile \u001b[39m\u001b[32m~/Documents/MachineLearning/.venv/lib/python3.12/site-packages/ipykernel/kernelbase.py:1275\u001b[39m, in \u001b[36mKernel.raw_input\u001b[39m\u001b[34m(self, prompt)\u001b[39m\n\u001b[32m   1273\u001b[39m     msg = \u001b[33m\"\u001b[39m\u001b[33mraw_input was called, but this frontend does not support input requests.\u001b[39m\u001b[33m\"\u001b[39m\n\u001b[32m   1274\u001b[39m     \u001b[38;5;28;01mraise\u001b[39;00m StdinNotImplementedError(msg)\n\u001b[32m-> \u001b[39m\u001b[32m1275\u001b[39m \u001b[38;5;28;01mreturn\u001b[39;00m \u001b[38;5;28;43mself\u001b[39;49m\u001b[43m.\u001b[49m\u001b[43m_input_request\u001b[49m\u001b[43m(\u001b[49m\n\u001b[32m   1276\u001b[39m \u001b[43m    \u001b[49m\u001b[38;5;28;43mstr\u001b[39;49m\u001b[43m(\u001b[49m\u001b[43mprompt\u001b[49m\u001b[43m)\u001b[49m\u001b[43m,\u001b[49m\n\u001b[32m   1277\u001b[39m \u001b[43m    \u001b[49m\u001b[38;5;28;43mself\u001b[39;49m\u001b[43m.\u001b[49m\u001b[43m_parent_ident\u001b[49m\u001b[43m[\u001b[49m\u001b[33;43m\"\u001b[39;49m\u001b[33;43mshell\u001b[39;49m\u001b[33;43m\"\u001b[39;49m\u001b[43m]\u001b[49m\u001b[43m,\u001b[49m\n\u001b[32m   1278\u001b[39m \u001b[43m    \u001b[49m\u001b[38;5;28;43mself\u001b[39;49m\u001b[43m.\u001b[49m\u001b[43mget_parent\u001b[49m\u001b[43m(\u001b[49m\u001b[33;43m\"\u001b[39;49m\u001b[33;43mshell\u001b[39;49m\u001b[33;43m\"\u001b[39;49m\u001b[43m)\u001b[49m\u001b[43m,\u001b[49m\n\u001b[32m   1279\u001b[39m \u001b[43m    \u001b[49m\u001b[43mpassword\u001b[49m\u001b[43m=\u001b[49m\u001b[38;5;28;43;01mFalse\u001b[39;49;00m\u001b[43m,\u001b[49m\n\u001b[32m   1280\u001b[39m \u001b[43m\u001b[49m\u001b[43m)\u001b[49m\n",
            "\u001b[36mFile \u001b[39m\u001b[32m~/Documents/MachineLearning/.venv/lib/python3.12/site-packages/ipykernel/kernelbase.py:1320\u001b[39m, in \u001b[36mKernel._input_request\u001b[39m\u001b[34m(self, prompt, ident, parent, password)\u001b[39m\n\u001b[32m   1317\u001b[39m \u001b[38;5;28;01mexcept\u001b[39;00m \u001b[38;5;167;01mKeyboardInterrupt\u001b[39;00m:\n\u001b[32m   1318\u001b[39m     \u001b[38;5;66;03m# re-raise KeyboardInterrupt, to truncate traceback\u001b[39;00m\n\u001b[32m   1319\u001b[39m     msg = \u001b[33m\"\u001b[39m\u001b[33mInterrupted by user\u001b[39m\u001b[33m\"\u001b[39m\n\u001b[32m-> \u001b[39m\u001b[32m1320\u001b[39m     \u001b[38;5;28;01mraise\u001b[39;00m \u001b[38;5;167;01mKeyboardInterrupt\u001b[39;00m(msg) \u001b[38;5;28;01mfrom\u001b[39;00m\u001b[38;5;250m \u001b[39m\u001b[38;5;28;01mNone\u001b[39;00m\n\u001b[32m   1321\u001b[39m \u001b[38;5;28;01mexcept\u001b[39;00m \u001b[38;5;167;01mException\u001b[39;00m:\n\u001b[32m   1322\u001b[39m     \u001b[38;5;28mself\u001b[39m.log.warning(\u001b[33m\"\u001b[39m\u001b[33mInvalid Message:\u001b[39m\u001b[33m\"\u001b[39m, exc_info=\u001b[38;5;28;01mTrue\u001b[39;00m)\n",
            "\u001b[31mKeyboardInterrupt\u001b[39m: Interrupted by user"
          ]
        }
      ],
      "source": [
        "import numpy as np\n",
        "store = []\n",
        "for i in range(5):\n",
        "    average = input(f\"Enter numbers to find average {i+1}: \")\n",
        "    store.append(average)\n",
        "\n",
        "avg = np.mean(store), max(store)\n",
        "print(avg)\n"
      ]
    },
    {
      "cell_type": "markdown",
      "id": "585cb2ce",
      "metadata": {
        "id": "585cb2ce"
      },
      "source": [
        "3. Define a function to calculate the Euclidean distance between two NumPy arrays.\n",
        "\n",
        "Refer back to **Notebook 5**, where we calculated Euclidean distance between two points like this:\n",
        "```python\n",
        "point1 = np.array([2.0, 3.0, 4.5])\n",
        "point2 = np.array([1.0, 0.5, 4.0])\n",
        "distance = 0\n",
        "for i in range(point1.size):\n",
        "    diff = point1[i] - point2[i]\n",
        "    distance += diff ** 2\n",
        "distance = np.sqrt(distance)\n",
        "```\n",
        "\n",
        "**Now, turn this into a function!**\n",
        "- The input parameters should be: `point1` and `point2`\n",
        "- It should return the computed ``distance`` as a float"
      ]
    },
    {
      "cell_type": "code",
      "execution_count": null,
      "id": "4xvHEAPbtm4b",
      "metadata": {
        "id": "4xvHEAPbtm4b"
      },
      "outputs": [],
      "source": [
        "\n",
        "def distance(point1, point2):\n",
        "    distance = 0\n",
        "    for i in range(point1.size):\n",
        "        diff = point1[i] - point2[i]\n",
        "        distance += diff ** 2\n",
        "    distance = np.sqrt(distance)\n",
        "\n",
        "    return distance\n",
        "\n",
        "# Test data to use when calling the function above\n",
        "point1 = np.array([2.0, 3.0, 4.5])\n",
        "point2 = np.array([1.0, 0.5, 4.0])\n",
        "\n",
        "# Calling the function and printing out the distance\n",
        "print(distance(point1, point2))"
      ]
    },
    {
      "cell_type": "markdown",
      "id": "aff182b4",
      "metadata": {
        "id": "aff182b4"
      },
      "source": [
        "## 💥 Mini Challenge\n",
        "Write a function called `summarise_metrics` that takes in two NumPy arrays: one for training accuracy and one for validation accuracy.\n",
        "It should return:\n",
        "- The average training accuracy\n",
        "- The average validation accuracy\n",
        "- The gap between them"
      ]
    },
    {
      "cell_type": "code",
      "execution_count": null,
      "id": "c9398bcd",
      "metadata": {
        "id": "c9398bcd"
      },
      "outputs": [],
      "source": [
        "def summarise_metrics(train_accuracy, test_accuracy):\n",
        "    train_accuracy = np.mean(train_accuracy)\n",
        "    test_accuracy = np.mean(test_accuracy)\n",
        "\n",
        "    gap_accuracy = train_accuracy - test_accuracy\n",
        "\n",
        "    return train_accuracy, test_accuracy, gap_accuracy\n",
        "\n",
        "train_acc = [0.8, 0.85, 0.9, 0.95]\n",
        "test_acc = [0.75, 0.8, 0.78, 0.82]\n",
        "\n",
        "results = summarise_metrics(train_acc, test_acc)"
      ]
    },
    {
      "cell_type": "markdown",
      "id": "47a82f75",
      "metadata": {
        "id": "47a82f75"
      },
      "source": [
        "## 🤔 Reflection\n",
        "- Why is it good practice to write reusable functions in ML projects?\n",
        "- How can functions help improve debugging, quality of code, or organisation?"
      ]
    },
    {
      "cell_type": "markdown",
      "id": "958a8355",
      "metadata": {
        "id": "958a8355"
      },
      "source": [
        "## ✅ Solutions (Click to Expand)"
      ]
    },
    {
      "cell_type": "code",
      "execution_count": 1,
      "id": "919c5727",
      "metadata": {
        "id": "919c5727"
      },
      "outputs": [
        {
          "name": "stdout",
          "output_type": "stream",
          "text": [
            "Rounded log: 2.3\n"
          ]
        }
      ],
      "source": [
        "# Task 1\n",
        "import math\n",
        "\n",
        "log_val = math.log(10)\n",
        "\n",
        "print(\"Rounded log:\", round(log_val, 2))"
      ]
    },
    {
      "cell_type": "code",
      "execution_count": null,
      "id": "9TtDia4K0O2m",
      "metadata": {
        "id": "9TtDia4K0O2m"
      },
      "outputs": [],
      "source": [
        "# Task 2\n",
        "def analyse_list(nums):\n",
        "    return np.mean(nums), max(nums)\n",
        "\n",
        "print(analyse_list([1, 2, 3, 4]))"
      ]
    },
    {
      "cell_type": "code",
      "execution_count": 2,
      "id": "7mR-lT8GzUdV",
      "metadata": {
        "id": "7mR-lT8GzUdV"
      },
      "outputs": [
        {
          "name": "stdout",
          "output_type": "stream",
          "text": [
            "2.7386127875258306\n"
          ]
        }
      ],
      "source": [
        "# Task 3\n",
        "import numpy as np\n",
        "\n",
        "# Defining the function\n",
        "def get_euclidean_distance(point1, point2):\n",
        "    distance = 0\n",
        "    for i in range(point1.size):\n",
        "        diff = point1[i] - point2[i]\n",
        "        distance += diff ** 2\n",
        "    distance = np.sqrt(distance)\n",
        "\n",
        "    return distance\n",
        "\n",
        "# Test data to use when calling the function above\n",
        "p1 = np.array([2.0, 3.0, 4.5])\n",
        "p2 = np.array([1.0, 0.5, 4.0])\n",
        "\n",
        "# Calling the function and printing out the distance\n",
        "print(get_euclidean_distance(p1, p2))"
      ]
    },
    {
      "cell_type": "code",
      "execution_count": 3,
      "id": "rkLujTUZzWni",
      "metadata": {
        "id": "rkLujTUZzWni"
      },
      "outputs": [
        {
          "name": "stdout",
          "output_type": "stream",
          "text": [
            "(np.float64(0.92), np.float64(0.88), np.float64(0.040000000000000036))\n"
          ]
        }
      ],
      "source": [
        "# Mini Challenge\n",
        "def summarise_metrics(train_acc, val_acc):\n",
        "    train_mean = np.mean(train_acc)\n",
        "    val_mean = np.mean(val_acc)\n",
        "    gap = train_mean - val_mean\n",
        "\n",
        "    return train_mean, val_mean, gap\n",
        "\n",
        "train = np.array([0.91, 0.93, 0.92])\n",
        "val = np.array([0.87, 0.88, 0.89])\n",
        "\n",
        "print(summarise_metrics(train, val))"
      ]
    }
  ],
  "metadata": {
    "colab": {
      "collapsed_sections": [
        "958a8355"
      ],
      "provenance": []
    },
    "kernelspec": {
      "display_name": ".venv",
      "language": "python",
      "name": "python3"
    },
    "language_info": {
      "codemirror_mode": {
        "name": "ipython",
        "version": 3
      },
      "file_extension": ".py",
      "mimetype": "text/x-python",
      "name": "python",
      "nbconvert_exporter": "python",
      "pygments_lexer": "ipython3",
      "version": "3.12.3"
    }
  },
  "nbformat": 4,
  "nbformat_minor": 5
}
