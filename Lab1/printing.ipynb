{
  "cells": [
    {
      "cell_type": "markdown",
      "id": "b0670fa6",
      "metadata": {
        "id": "b0670fa6"
      },
      "source": [
        "# 📘 Notebook 1: Print Statements and String Formatting\n",
        "Welcome! This notebook will help you revise `print()` statements and learn different ways to format strings in Python.\n",
        "\n",
        "### 🧠 Why This Matters for Machine Learning\n",
        "When training and evaluating models, you'll often want to print results like accuracy, loss, or parameters in a readable way. Clear and formatted output is essential for interpreting results and debugging."
      ]
    },
    {
      "cell_type": "markdown",
      "id": "7924553c",
      "metadata": {
        "id": "7924553c"
      },
      "source": [
        "## 🔁 Recap: Printing Basics\n",
        "Use the `print()` function to output text or variables.\n",
        "\n",
        "You can combine text and variables using concatenation, commas, or f-strings."
      ]
    },
    {
      "cell_type": "code",
      "execution_count": 1,
      "id": "f5bc21e8",
      "metadata": {
        "id": "f5bc21e8"
      },
      "outputs": [
        {
          "name": "stdout",
          "output_type": "stream",
          "text": [
            "Hello, world!\n",
            "Hello, Alice\n",
            "Hello, Alice\n",
            "Hello, Alice\n"
          ]
        }
      ],
      "source": [
        "# Example 1: Basic printing\n",
        "print(\"Hello, world!\")\n",
        "\n",
        "# Example 2: Combining strings and variables\n",
        "name = \"Alice\"\n",
        "print(\"Hello, \" + name)  # Concatenation (notice the space after the comma in the string)\n",
        "print(\"Hello,\", name)    # Comma-separated (notice there's no space after the comma in the string)\n",
        "print(f\"Hello, {name}\")   # f-string"
      ]
    },
    {
      "cell_type": "markdown",
      "id": "6e5edb7b",
      "metadata": {
        "id": "6e5edb7b"
      },
      "source": [
        "### 📐 Formatting Numbers\n",
        "Python offers several ways to format numbers when printing:\n",
        "- Use `f-strings` for clear, modern formatting.\n",
        "- Use `:.2f` to round to 2 decimal places (e.g., `f\"{value:.2f}\"`).\n",
        "- Use `:.1%` to display percentages (e.g., `f\"{accuracy:.1%}\"`).\n",
        "\n",
        "**Example:**\n",
        "```python\n",
        "value = 3.14159\n",
        "print(f\"Value: {value:.2f}\")  # 2 decimal places\n",
        "accuracy = 0.934\n",
        "print(f\"Accuracy: {accuracy:.1%}\")  # percentage\n",
        "```\n",
        "\n",
        "You can learn more here: [Python String Formatting Guide (Real Python)](https://realpython.com/python-f-strings/)"
      ]
    },
    {
      "cell_type": "code",
      "execution_count": 2,
      "id": "2a2fb74c",
      "metadata": {
        "id": "2a2fb74c"
      },
      "outputs": [
        {
          "name": "stdout",
          "output_type": "stream",
          "text": [
            "Original: 3.14159\n",
            "2 decimal places: 3.14\n",
            "As percentage: 93.5%\n",
            "Rounded to 1 decimal: 0.9\n",
            "Scientific notation: 3.14e+00\n"
          ]
        }
      ],
      "source": [
        "# Number formatting examples\n",
        "value = 3.14159\n",
        "print(f\"Original: {value}\")\n",
        "print(f\"2 decimal places: {value:.2f}\")\n",
        "\n",
        "accuracy = 0.93456\n",
        "print(f\"As percentage: {accuracy:.1%}\")\n",
        "print(f\"Rounded to 1 decimal: {accuracy:.1f}\")\n",
        "print(f\"Scientific notation: {value:.2e}\")"
      ]
    },
    {
      "cell_type": "markdown",
      "id": "1e29fd97",
      "metadata": {
        "id": "1e29fd97"
      },
      "source": [
        "## 🎯 Tasks: Try it Yourself"
      ]
    },
    {
      "cell_type": "markdown",
      "id": "c04717f1",
      "metadata": {
        "id": "c04717f1"
      },
      "source": [
        "1. Print your name and student ID using all three formatting methods (concatenation, comma, f-string)."
      ]
    },
    {
      "cell_type": "code",
      "execution_count": 4,
      "id": "c715d7dc",
      "metadata": {
        "id": "c715d7dc"
      },
      "outputs": [
        {
          "name": "stdout",
          "output_type": "stream",
          "text": [
            "Student Name: Riley, ID: 5700695\n",
            "student name: Riley, ID: 5700695\n",
            "student name: Riley , ID: 5700695\n"
          ]
        }
      ],
      "source": [
        "name = \"Riley\"\n",
        "student_ID = 5700695\n",
        "\n",
        "# Display student information f-string\n",
        "print(f\"Student Name: {name}, ID: {student_ID}\")\n",
        "\n",
        "# Display concatenation\n",
        "print(\"student name: \" + name + \", ID: \" + str(student_ID))\n",
        "\n",
        "# Display comma-separated\n",
        "print(\"student name:\", name, \", ID:\", student_ID)"
      ]
    },
    {
      "cell_type": "markdown",
      "id": "fd90d989",
      "metadata": {
        "id": "fd90d989"
      },
      "source": [
        "2. Format a floating point number as a percentage (e.g., accuracy = 0.934 → \"Accuracy: 93.4%\")"
      ]
    },
    {
      "cell_type": "code",
      "execution_count": 6,
      "id": "f2ff4cd7",
      "metadata": {
        "id": "f2ff4cd7"
      },
      "outputs": [
        {
          "name": "stdout",
          "output_type": "stream",
          "text": [
            "intfloat as percentage: 314.16%\n"
          ]
        }
      ],
      "source": [
        "intfloat = 3.14159\n",
        "\n",
        "# display as percentage of 100%\n",
        "infloat_percentage = intfloat * 100\n",
        "print(f\"intfloat as percentage: {infloat_percentage:.2f}%\")"
      ]
    },
    {
      "cell_type": "markdown",
      "id": "7825e9a0",
      "metadata": {
        "id": "7825e9a0"
      },
      "source": [
        "3. Print a message that includes both a string and a number (e.g., epochs completed)."
      ]
    },
    {
      "cell_type": "code",
      "execution_count": 7,
      "id": "030c38ca",
      "metadata": {
        "id": "030c38ca"
      },
      "outputs": [
        {
          "name": "stdout",
          "output_type": "stream",
          "text": [
            "student name: Riley , ID: 5700695\n"
          ]
        }
      ],
      "source": [
        "# Display comma-separated\n",
        "print(\"student name:\", name, \", ID:\", student_ID)"
      ]
    },
    {
      "cell_type": "markdown",
      "id": "0816811a",
      "metadata": {
        "id": "0816811a"
      },
      "source": [
        "## 💥 Mini Challenge\n",
        "Create a mini leaderboard by printing names and scores for three Machine Learning models in a formatted way (e.g., aligning names and percentages). You can look up some Machine Learning model names, or just call them Model A, B, C.."
      ]
    },
    {
      "cell_type": "code",
      "execution_count": 11,
      "id": "ce7dc93b",
      "metadata": {
        "id": "ce7dc93b"
      },
      "outputs": [
        {
          "name": "stdout",
          "output_type": "stream",
          "text": [
            "Leaderboard:\n",
            "Position: 1, Student Name: Alice, Score: 85.5\n",
            "Position: 2, Student Name: Bob, Score: 92.3\n",
            "Position: 3, Student Name: Charlie, Score: 78.9\n"
          ]
        }
      ],
      "source": [
        "names = [\"Alice\", \"Bob\", \"Charlie\"]\n",
        "scores = [85.5, 92.3, 78.9]\n",
        "\n",
        "# leaderboard\n",
        "print(\"Leaderboard:\")\n",
        "for i in range(len(names)):\n",
        "    print(f\"Position: {i+1}, Student Name: {names[i]}, Score: {scores[i]:.1f}\")\n"
      ]
    },
    {
      "cell_type": "markdown",
      "id": "4e7c65ba",
      "metadata": {
        "id": "4e7c65ba"
      },
      "source": [
        "## 🤔 Reflection\n",
        "- Why is formatted output helpful for data analysis?\n",
        "- How is this useful when evaluating the performance of machine learning models?"
      ]
    },
    {
      "cell_type": "markdown",
      "id": "69ee3a3b",
      "metadata": {
        "id": "69ee3a3b"
      },
      "source": [
        "## ✅ Solutions (Click to Expand)"
      ]
    },
    {
      "cell_type": "code",
      "execution_count": 12,
      "id": "8091dd9d",
      "metadata": {
        "id": "8091dd9d"
      },
      "outputs": [
        {
          "name": "stdout",
          "output_type": "stream",
          "text": [
            "Name: Alice, ID: 123456\n",
            "Name: Alice ID: 123456\n",
            "Name: Alice, ID: 123456\n",
            "Accuracy: 93.4%\n",
            "Training complete after 10 epochs\n"
          ]
        }
      ],
      "source": [
        "# Task 1\n",
        "name = \"Alice\"\n",
        "student_id = \"123456\"\n",
        "print(\"Name: \" + name + \", ID: \" + student_id)\n",
        "print(\"Name:\", name, \"ID:\", student_id)\n",
        "print(f\"Name: {name}, ID: {student_id}\")\n",
        "\n",
        "# Task 2\n",
        "accuracy = 0.934\n",
        "print(f\"Accuracy: {accuracy * 100:.1f}%\")\n",
        "\n",
        "# Task 3\n",
        "epochs = 10\n",
        "print(f\"Training complete after {epochs} epochs\")\n",
        "\n"
      ]
    }
  ],
  "metadata": {
    "colab": {
      "collapsed_sections": [
        "69ee3a3b"
      ],
      "provenance": []
    },
    "kernelspec": {
      "display_name": ".venv",
      "language": "python",
      "name": "python3"
    },
    "language_info": {
      "codemirror_mode": {
        "name": "ipython",
        "version": 3
      },
      "file_extension": ".py",
      "mimetype": "text/x-python",
      "name": "python",
      "nbconvert_exporter": "python",
      "pygments_lexer": "ipython3",
      "version": "3.12.3"
    }
  },
  "nbformat": 4,
  "nbformat_minor": 5
}
