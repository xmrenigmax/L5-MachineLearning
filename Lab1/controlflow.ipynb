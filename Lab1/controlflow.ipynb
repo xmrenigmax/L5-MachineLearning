{
  "cells": [
    {
      "cell_type": "markdown",
      "id": "fcab07e3",
      "metadata": {
        "id": "fcab07e3"
      },
      "source": [
        "# 📘 Notebook 4: Control Flow with If-Else Logic\n",
        "In this notebook, you'll revise how to use `if`, `elif`, and `else` statements to control program behaviour based on conditions.\n",
        "\n",
        "### 🧠 Why This Matters for Machine Learning\n",
        "Control flow is essential when you need to make decisions in code, e.g., based on model performance, evaluation metrics, or specific data values. Or simply to print out useful messages to yourself/end-users."
      ]
    },
    {
      "cell_type": "markdown",
      "id": "2c6eba09",
      "metadata": {
        "id": "2c6eba09"
      },
      "source": [
        "## 🔀 Basic If-Else\n",
        "- `if` statements allow you to run code only when a condition is true.\n",
        "- Use `elif` to check multiple conditions in sequence.\n",
        "- Use `else` to run a block when none of the above conditions are true."
      ]
    },
    {
      "cell_type": "code",
      "execution_count": null,
      "id": "7005d65d",
      "metadata": {
        "id": "7005d65d"
      },
      "outputs": [],
      "source": [
        "# Example: Checking model accuracy\n",
        "accuracy = 0.87\n",
        "if accuracy > 0.90:\n",
        "    print(\"Excellent model!\")\n",
        "elif accuracy > 0.80:\n",
        "    print(\"Decent performance.\")\n",
        "else:\n",
        "    print(\"Needs improvement.\")"
      ]
    },
    {
      "cell_type": "markdown",
      "id": "ba13e96b",
      "metadata": {
        "id": "ba13e96b"
      },
      "source": [
        "## 📏 Boolean Expressions\n",
        "- Use comparison operators: `==`, `!=`, `>`, `<`, `>=`, `<=`\n",
        "- Combine conditions with `and`, `or`, and `not`\n",
        "- These are useful when evaluating multiple metrics or combining test results"
      ]
    },
    {
      "cell_type": "code",
      "execution_count": null,
      "id": "17dff7c2",
      "metadata": {
        "id": "17dff7c2"
      },
      "outputs": [],
      "source": [
        "# Example: Combine two evaluation conditions\n",
        "accuracy = 0.85\n",
        "precision = 0.80\n",
        "if accuracy > 0.8 and precision > 0.75:\n",
        "    print(\"Model passes minimum thresholds\")\n",
        "else:\n",
        "    print(\"Model needs improvement\")"
      ]
    },
    {
      "cell_type": "markdown",
      "id": "6ef713bc",
      "metadata": {
        "id": "6ef713bc"
      },
      "source": [
        "## 🎯 Tasks: Try it Yourself"
      ]
    },
    {
      "cell_type": "markdown",
      "id": "d3603fc9",
      "metadata": {
        "id": "d3603fc9"
      },
      "source": [
        "1. Write an if-elif-else block that prints different messages depending on model accuracy:\n",
        "- Above 90% → \"Outstanding\"\n",
        "- Above 75% (but less than 90%) → \"Satisfactory\"\n",
        "- 75% or below → \"Needs retraining\""
      ]
    },
    {
      "cell_type": "code",
      "execution_count": null,
      "id": "d8033970",
      "metadata": {
        "id": "d8033970"
      },
      "outputs": [],
      "source": [
        "score = input(\"Enter the model score (0-100): \")\n",
        "if score >= 90:\n",
        "    print(\"Outstanding performance\")\n",
        "elif (score >= 75 and score < 90):\n",
        "    print(\"satisfactory performance\")\n",
        "else:\n",
        "    print(\"needs improvement\") "
      ]
    },
    {
      "cell_type": "markdown",
      "id": "e69bc0ec",
      "metadata": {
        "id": "e69bc0ec"
      },
      "source": [
        "2. Create a variable `loss` and write a condition that checks if either the accuracy is high (> 85%) **or** the loss is low (< 0.3). Print \"Good model\" if true."
      ]
    },
    {
      "cell_type": "code",
      "execution_count": null,
      "id": "a3aa94b0",
      "metadata": {
        "id": "a3aa94b0"
      },
      "outputs": [],
      "source": [
        "loss = input(\"Enter the model loss (0-100): \")\n",
        "if loss >= 85:\n",
        "    print(\"high loss\")\n",
        "elif (loss < 0.3):\n",
        "    print(\"low loss\")\n",
        "else:\n",
        "    print(\"medium loss\")"
      ]
    },
    {
      "cell_type": "markdown",
      "id": "d5c3a9ad",
      "metadata": {
        "id": "d5c3a9ad"
      },
      "source": [
        "3. Simulate a dataset with a certain number of features (e.g., create a variable ``num_features`` and assign it a value). If the number of features is less than 5, print \"Too few features\". If more than 50, print \"Too many features\". Otherwise, print \"Feature count acceptable\"."
      ]
    },
    {
      "cell_type": "code",
      "execution_count": null,
      "id": "8041bb4d",
      "metadata": {
        "id": "8041bb4d"
      },
      "outputs": [],
      "source": [
        "num_features = input(\"Enter the number of features: \")\n",
        "\n",
        "if num_features < 5:\n",
        "    print(\"model has too few features\")\n",
        "elif num_features > 50:\n",
        "    print(\"model has too many features\")\n",
        "else:\n",
        "    print(\"model has an optimal number of features\")"
      ]
    },
    {
      "cell_type": "markdown",
      "id": "1d21e35e",
      "metadata": {
        "id": "1d21e35e"
      },
      "source": [
        "## 💥 Mini Challenge\n",
        "Write a program that asks the user for their model accuracy (as a percentage) and gives feedback:\n",
        "- 95 and above: \"Top-tier performance\"\n",
        "- 80 to 94: \"Good effort\"\n",
        "- Below 80: \"Needs work\"\n",
        "\n",
        "**PS:** Refer to previous notebooks if needed (e.g., to get ``input()``), and make sure to convert the input into a float before checking conditions."
      ]
    },
    {
      "cell_type": "code",
      "execution_count": null,
      "id": "99c08d43",
      "metadata": {
        "id": "99c08d43"
      },
      "outputs": [],
      "source": [
        "model_accuracy = input(\"Enter the model accuracy percentage (0-100): \")\n",
        "\n",
        "if model_accuracy > 95:\n",
        "    print(\"Model is highly accurate\")\n",
        "elif (model_accuracy >= 80 and model_accuracy <= 94):\n",
        "    print(\"Model accuracy is acceptable\")\n",
        "else:\n",
        "    print(\"Model accuracy needs improvement\")"
      ]
    },
    {
      "cell_type": "markdown",
      "id": "a5d9d559",
      "metadata": {
        "id": "a5d9d559"
      },
      "source": [
        "## 🤔 Reflection\n",
        "- How does control flow help automate decisions in your code?\n",
        "- Can you think of machine learning use cases where you might need to check multiple conditions?"
      ]
    },
    {
      "cell_type": "markdown",
      "id": "5e2cfb99",
      "metadata": {
        "id": "5e2cfb99"
      },
      "source": [
        "## ✅ Solutions (Click to Expand)"
      ]
    },
    {
      "cell_type": "code",
      "execution_count": null,
      "id": "6836c6f7",
      "metadata": {
        "id": "6836c6f7"
      },
      "outputs": [],
      "source": [
        "# Task 1\n",
        "accuracy = 0.78\n",
        "if accuracy > 0.90:\n",
        "    print(\"Outstanding\")\n",
        "elif accuracy > 0.75:\n",
        "    print(\"Satisfactory\")\n",
        "else:\n",
        "    print(\"Needs retraining\")\n",
        "\n",
        "# Task 2\n",
        "accuracy = 0.82\n",
        "loss = 0.28\n",
        "if accuracy > 0.85 or loss < 0.3:\n",
        "    print(\"Good model\")\n",
        "\n",
        "# Task 3\n",
        "num_features = 25\n",
        "if num_features < 5:\n",
        "    print(\"Too few features\")\n",
        "elif num_features > 50:\n",
        "    print(\"Too many features\")\n",
        "else:\n",
        "    print(\"Feature count acceptable\")"
      ]
    },
    {
      "cell_type": "code",
      "execution_count": null,
      "id": "4fBuDppDpRLg",
      "metadata": {
        "id": "4fBuDppDpRLg"
      },
      "outputs": [],
      "source": [
        "# Mini Challenge\n",
        "user_input = input(\"Enter model accuracy (%): \")\n",
        "accuracy = float(user_input)\n",
        "if accuracy >= 95:\n",
        "    print(\"Top-tier performance\")\n",
        "elif accuracy >= 80:\n",
        "    print(\"Good effort\")\n",
        "else:\n",
        "    print(\"Needs work\")"
      ]
    }
  ],
  "metadata": {
    "colab": {
      "collapsed_sections": [
        "5e2cfb99"
      ],
      "provenance": []
    },
    "kernelspec": {
      "display_name": ".venv",
      "language": "python",
      "name": "python3"
    },
    "language_info": {
      "codemirror_mode": {
        "name": "ipython",
        "version": 3
      },
      "file_extension": ".py",
      "mimetype": "text/x-python",
      "name": "python",
      "nbconvert_exporter": "python",
      "pygments_lexer": "ipython3",
      "version": "3.12.3"
    }
  },
  "nbformat": 4,
  "nbformat_minor": 5
}
