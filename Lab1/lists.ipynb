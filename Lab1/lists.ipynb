{
  "cells": [
    {
      "cell_type": "markdown",
      "id": "1cd71a66",
      "metadata": {
        "id": "1cd71a66"
      },
      "source": [
        "# 📘 Notebook 3: Lists, Tuples, and NumPy Arrays\n",
        "This notebook will help you understand Python's core data structures: lists and tuples, and introduce you to NumPy arrays.\n",
        "\n",
        "### 🧠 Why This Matters for Machine Learning\n",
        "When working with datasets, you'll often use lists or NumPy arrays to store and process data efficiently."
      ]
    },
    {
      "cell_type": "markdown",
      "id": "7c2e4dd0",
      "metadata": {
        "id": "7c2e4dd0"
      },
      "source": [
        "## 📋 Lists: Ordered and Mutable\n",
        "- Lists are ordered collections that can be changed (mutable).\n",
        "  - Think of them as a locker room with a row of lockers that you can store things in.\n",
        "- You can put what ever into the lockers, even mix and match\n",
        "  - I.e., elements can be of any type, int, float, string, etc.\n",
        "- Use square brackets `[]` to define a list.\n",
        "- You can access elements using indices (starting at 0).\n",
        "- You can add elements to the list using the ``append()`` function.\n",
        "\n",
        "**Example code below**"
      ]
    },
    {
      "cell_type": "code",
      "execution_count": null,
      "id": "5ee30577",
      "metadata": {
        "id": "5ee30577"
      },
      "outputs": [],
      "source": [
        "# Examples of using lists\n",
        "models = [\"Linear Regression\", \"Decision Tree\", \"KNN\"]\n",
        "print(models) # Prints the whole list\n",
        "print(models[0])  # First item (model)\n",
        "models.append(\"SVM\")  # Add to list\n",
        "print(models)\n",
        "models[1] = \"Random Forest\"  # Update item as a specific location (index 1 = 2nd location)\n",
        "print(models)"
      ]
    },
    {
      "cell_type": "markdown",
      "id": "6683e256",
      "metadata": {
        "id": "6683e256"
      },
      "source": [
        "## 🔒 Tuples: Ordered and Immutable\n",
        "- Tuples are like lists but cannot be changed after creation.\n",
        "- Use parentheses `()` to define a tuple (instead of square brackets ``[]`` for lists).\n",
        "- Still access values like with arrays using indices (starting at 0).\n",
        "- Good for fixed values like model settings.\n",
        "\n",
        "**Example code below**"
      ]
    },
    {
      "cell_type": "code",
      "execution_count": null,
      "id": "9ffe9f3a",
      "metadata": {
        "id": "9ffe9f3a"
      },
      "outputs": [],
      "source": [
        "# Examples of using tuples\n",
        "settings = (0.01, 100)  # e.g., learning_rate, epochs\n",
        "print(settings)\n",
        "print(f\"Learning rate: {settings[0]}, Epochs: {settings[1]}\")"
      ]
    },
    {
      "cell_type": "markdown",
      "id": "ZiRK_nuTnM1S",
      "metadata": {
        "id": "ZiRK_nuTnM1S"
      },
      "source": [
        "### 🔁 Converting Between Tuples and Lists\n",
        "\n",
        "Similarly to casting variables (e.g., from float to int), you can convert between typles and lists.\n",
        "\n",
        "It's rare to need to do this, but here's why you might:\n",
        "- Tuples are immutable, meaning you cannot change their contents after creation.\n",
        "- Lists are mutable, so you can add, remove, or change elements.\n",
        "- You might convert a tuple to a list if you need to update its contents, then convert it back to a tuple for consistency or protection.\n",
        "\n",
        "**Use cases:**\n",
        "- Store fixed settings as a tuple to prevent accidental changes.\n",
        "- Convert to a list temporarily when changes are needed.\n",
        "\n",
        "**Example code below**"
      ]
    },
    {
      "cell_type": "code",
      "execution_count": null,
      "id": "XIqfM6O8nvqy",
      "metadata": {
        "id": "XIqfM6O8nvqy"
      },
      "outputs": [],
      "source": [
        "# Converting between tuple and list\n",
        "model_params = (0.01, 100)  # learning rate, epochs\n",
        "print(\"Original tuple:\", model_params)\n",
        "\n",
        "# Convert to list to modify\n",
        "param_list = list(model_params)\n",
        "param_list[1] = 150  # Update number of epochs\n",
        "print(\"Modified list:\", param_list)\n",
        "\n",
        "# Convert back to tuple\n",
        "model_params = tuple(param_list)\n",
        "print(\"Updated tuple:\", model_params)"
      ]
    },
    {
      "cell_type": "markdown",
      "id": "fadbdabb",
      "metadata": {
        "id": "fadbdabb"
      },
      "source": [
        "## 🔢 NumPy Arrays: Fast Numerical Structures\n",
        "\n",
        "Remember what NumPy arrays are?\n",
        "- NumPy arrays are efficient, typed, collections for **numerical data**.\n",
        "  - i.e., while lists can contain a mixture of ints, floats and strings, NumPy arrays are fixed to a specific data type\n",
        "- You must first `import numpy as np`.\n",
        "- Arrays can be created with a specified data type (e.g., `dtype=int`, `dtype=float`).\n",
        "- Arrays support element-wise operations and many mathematical functions.\n",
        "\n",
        "**What makes NumPy arrays better for data processing and Machine Learning?!**\n",
        "- You can get properties like ``shape``, ``size``, and ``average values`` using built-in methods. No need to use the ``len()`` function to find out the size, for example, like you have to on a basic python list.\n",
        "- While lists are flexible, arrays are better for numerical computations and large data.\n",
        "- You can append or delete values using `np.append()` and `np.delete()`.\n",
        "- You can represent **missing data** using `np.nan` (Not a Number), useful in preprocessing datasets as many real-world datasets have missing values. You can't do this in basic python lists.\n",
        "\n",
        "**Example code below**"
      ]
    },
    {
      "cell_type": "code",
      "execution_count": null,
      "id": "5ac59a26",
      "metadata": {
        "id": "5ac59a26"
      },
      "outputs": [],
      "source": [
        "import numpy as np\n",
        "\n",
        "# Creating NumPy arrays with specified type\n",
        "array_int = np.array([1, 2, 3], dtype=int)\n",
        "array_float = np.array([1, 2, 3], dtype=float)\n",
        "print(\"Integer array:\", array_int)\n",
        "print(\"Float array:\", array_float)\n",
        "\n",
        "# Useful properties\n",
        "print(\"Size:\", array_float.size)   # MUCH QUICKER than doing len(array_float)\n",
        "print(\"Mean:\", array_float.mean()) # A quick way of getting the average value in the array\n",
        "\n",
        "# Operations\n",
        "print(\"Doubled:\", array_float * 2)  # multiplies every number in the array by 2\n",
        "print(\"Squared:\", array_float ** 2) # squares every number in the array\n",
        "\n",
        "# Adding and removing values\n",
        "extended = np.append(array_float, [4.0, 5.0])\n",
        "print(\"After append:\", extended)\n",
        "reduced = np.delete(extended, [0, 1])\n",
        "print(\"After deletion:\", reduced)\n",
        "\n",
        "# Example with missing values\n",
        "with_nan = np.array([1.0, np.nan, 3.0, 4.0])\n",
        "print(\"Array with missing value:\", with_nan)\n",
        "print(\"Mean (ignores NaN by default):\", np.nanmean(with_nan))"
      ]
    },
    {
      "cell_type": "markdown",
      "id": "996c75e1",
      "metadata": {
        "id": "996c75e1"
      },
      "source": [
        "## 🎯 Tasks: Try it Yourself"
      ]
    },
    {
      "cell_type": "markdown",
      "id": "4fee0769",
      "metadata": {
        "id": "4fee0769"
      },
      "source": [
        "1. Create a list of five machine learning model names. Then do the following:\n",
        "- Print the list\n",
        "- Access and update an element\n",
        "- Add a new model to the list"
      ]
    },
    {
      "cell_type": "code",
      "execution_count": 2,
      "id": "6d1bc540",
      "metadata": {
        "id": "6d1bc540"
      },
      "outputs": [
        {
          "name": "stdout",
          "output_type": "stream",
          "text": [
            "Models: ['linear', 'tree', 'quad', 'KNN', 'SVM']\n"
          ]
        }
      ],
      "source": [
        "models = [\"linear\",\"tree\",\"quad\",\"KNN\",\"SVM\"]\n",
        "\n",
        "print(\"Models:\", models)\n",
        "\n",
        "models[1] = \"decision tree\"\n",
        "\n",
        "models.append(\"random forest\")"
      ]
    },
    {
      "cell_type": "markdown",
      "id": "b74f7173",
      "metadata": {
        "id": "b74f7173"
      },
      "source": [
        "2. Create a tuple containing a learning rate and number of epochs. Then do the following:\n",
        "- Access and print each element\n",
        "- Convert the tuple to a list, modify it, and convert back to a tuple"
      ]
    },
    {
      "cell_type": "code",
      "execution_count": 8,
      "id": "43cd4681",
      "metadata": {
        "id": "43cd4681"
      },
      "outputs": [
        {
          "name": "stdout",
          "output_type": "stream",
          "text": [
            "(0.01, 99, 0.001)\n"
          ]
        }
      ],
      "source": [
        "learning_rate = (0.01,100,0.001)\n",
        "\n",
        "new = list(learning_rate)\n",
        "new[1] = 99\n",
        "new = tuple(new)\n",
        "print(new)"
      ]
    },
    {
      "cell_type": "markdown",
      "id": "27d5bb0a",
      "metadata": {
        "id": "27d5bb0a"
      },
      "source": [
        "3. Create a NumPy array from a list of numbers (e.g., loss values over epochs). Then do the following:\n",
        "- Print the shape and perform a simple operation (e.g., subtract by a number)"
      ]
    },
    {
      "cell_type": "code",
      "execution_count": 11,
      "id": "11149c21",
      "metadata": {
        "id": "11149c21"
      },
      "outputs": [
        {
          "name": "stdout",
          "output_type": "stream",
          "text": [
            "[1 2 3 3 4 5 1 2]\n",
            "after subtraction epochs [0 1 2 2 3 4 0 1]\n"
          ]
        }
      ],
      "source": [
        "import numpy as np\n",
        "array_int = np.array([1,2,3,3,4,5,1,2])\n",
        "print(array_int)\n",
        "print(\"after subtraction epochs\", array_int - 1)"
      ]
    },
    {
      "cell_type": "markdown",
      "id": "c3f82419",
      "metadata": {
        "id": "c3f82419"
      },
      "source": [
        "## 💥 Mini Challenge\n",
        "Simulate storing training accuracy for 5 epochs using a NumPy array. Multiply all values by 100 to show them as percentages."
      ]
    },
    {
      "cell_type": "code",
      "execution_count": 15,
      "id": "9c6e8b17",
      "metadata": {
        "id": "9c6e8b17"
      },
      "outputs": [
        {
          "name": "stdout",
          "output_type": "stream",
          "text": [
            "Accuracy percentages :  [80. 85. 90. 95.  1.]\n"
          ]
        }
      ],
      "source": [
        "accuracy = np.array([0.8, 0.85, 0.9, 0.95, 0.01])\n",
        "print(\"Accuracy percentages : \", accuracy*100 )"
      ]
    },
    {
      "cell_type": "markdown",
      "id": "8d5ef6a3",
      "metadata": {
        "id": "8d5ef6a3"
      },
      "source": [
        "## 🤔 Reflection\n",
        "- Why might it be better to use NumPy arrays instead of lists in machine learning workflows? Especially consider what actually happens when you need to use the ``len()`` function to get the size of a python list.\n",
        "- When would a tuple be preferable over a list?"
      ]
    },
    {
      "cell_type": "markdown",
      "id": "946c12d8",
      "metadata": {
        "id": "946c12d8"
      },
      "source": [
        "## ✅ Solutions (Click to Expand)"
      ]
    },
    {
      "cell_type": "code",
      "execution_count": 10,
      "id": "6a5203a5",
      "metadata": {
        "id": "6a5203a5"
      },
      "outputs": [
        {
          "name": "stdout",
          "output_type": "stream",
          "text": [
            "['Linear Regression', 'SVM', 'KNN', 'Random Forest', 'Naive Bayes']\n",
            "['Linear Regression', 'SVM', 'Decision Tree', 'Random Forest', 'Naive Bayes', 'Neural Network']\n",
            "0.01 100\n",
            "(0.01, 150)\n",
            "[0.8  0.6  0.5  0.4  0.35]\n",
            "After subtraction: [0.7  0.5  0.4  0.3  0.25]\n",
            "Accuracies (%): [91. 93. 92. 94. 95.]\n"
          ]
        }
      ],
      "source": [
        "# Task 1\n",
        "models = [\"Linear Regression\", \"SVM\", \"KNN\", \"Random Forest\", \"Naive Bayes\"]\n",
        "print(models)\n",
        "models[2] = \"Decision Tree\"\n",
        "models.append(\"Neural Network\")\n",
        "print(models)\n",
        "\n",
        "# Task 2\n",
        "params = (0.01, 100)\n",
        "print(params[0], params[1])\n",
        "param_list = list(params)\n",
        "param_list[1] = 150\n",
        "params = tuple(param_list)\n",
        "print(params)\n",
        "\n",
        "# Task 3\n",
        "import numpy as np\n",
        "losses = np.array([0.8, 0.6, 0.5, 0.4, 0.35])\n",
        "print(losses)\n",
        "print(\"After subtraction:\", losses - 0.1)\n",
        "\n",
        "# Mini Challenge\n",
        "accuracies = np.array([0.91, 0.93, 0.92, 0.94, 0.95])\n",
        "print(\"Accuracies (%):\", accuracies * 100)"
      ]
    }
  ],
  "metadata": {
    "colab": {
      "collapsed_sections": [
        "946c12d8"
      ],
      "provenance": []
    },
    "kernelspec": {
      "display_name": ".venv",
      "language": "python",
      "name": "python3"
    },
    "language_info": {
      "codemirror_mode": {
        "name": "ipython",
        "version": 3
      },
      "file_extension": ".py",
      "mimetype": "text/x-python",
      "name": "python",
      "nbconvert_exporter": "python",
      "pygments_lexer": "ipython3",
      "version": "3.12.3"
    }
  },
  "nbformat": 4,
  "nbformat_minor": 5
}
