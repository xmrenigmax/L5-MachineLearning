{
  "cells": [
    {
      "cell_type": "markdown",
      "id": "979c1137",
      "metadata": {
        "id": "979c1137"
      },
      "source": [
        "# 📘 Notebook 5: Loops for Repetition and Automation\n",
        "In this notebook, you'll revise how to use loops in Python to repeat tasks efficiently.\n",
        "\n",
        "❗**This notebook will include two specific tasks involving Generative AI, so you start to get a feel for appropriate use of it in this unit.**\n",
        "\n",
        "### 🧠 Why This Matters for Machine Learning\n",
        "Loops are essential when iterating through datasets, processing multiple inputs, or simulating training over several epochs."
      ]
    },
    {
      "cell_type": "markdown",
      "id": "8659aacb",
      "metadata": {
        "id": "8659aacb"
      },
      "source": [
        "## 🔁 For Loops\n",
        "- Use `for` loops to iterate over sequences like lists, tuples, or arrays.\n",
        "- Useful when you know how many items to process (e.g., model names or feature values)."
      ]
    },
    {
      "cell_type": "code",
      "execution_count": null,
      "id": "33edcd51",
      "metadata": {
        "id": "33edcd51"
      },
      "outputs": [],
      "source": [
        "# Example: Loop through a list of model names\n",
        "models = [\"Linear Regression\", \"SVM\", \"KNN\"]\n",
        "\n",
        "for model in models:\n",
        "    print(f\"Training {model}...\")"
      ]
    },
    {
      "cell_type": "markdown",
      "id": "a63a67c2",
      "metadata": {
        "id": "a63a67c2"
      },
      "source": [
        "### 🔢 Looping by Index\n",
        "- You can use `range(len(list))` to access index positions.\n",
        "- Useful when modifying values in place or when you need index numbers.\n",
        "- This is also useful when you need to access elements from multiple lists simultaneously."
      ]
    },
    {
      "cell_type": "code",
      "execution_count": null,
      "id": "cc458571",
      "metadata": {
        "id": "cc458571"
      },
      "outputs": [],
      "source": [
        "# Looping by index\n",
        "models = [\"Model A\", \"Model B\", \"Model C\"]\n",
        "accuracies = [0.91, 0.85, 0.88]\n",
        "\n",
        "# range(len(models)) will return [0,1,2] and i will take the value of those 3 numbers in turn as it loops\n",
        "for i in range(len(models)):\n",
        "    print(f\"{models[i]} scored {accuracies[i]*100:.1f}% accuracy\")"
      ]
    },
    {
      "cell_type": "markdown",
      "id": "c8afe5b6",
      "metadata": {
        "id": "c8afe5b6"
      },
      "source": [
        "### 🧮 Looping with NumPy Arrays\n",
        "- NumPy arrays can be looped over like lists, but indexing is often preferred for numerical operations.\n",
        "- Instead of using `len()`, use `.size` for speed, clarity and compatibility."
      ]
    },
    {
      "cell_type": "code",
      "execution_count": null,
      "id": "279d9069",
      "metadata": {
        "id": "279d9069"
      },
      "outputs": [],
      "source": [
        "import numpy as np\n",
        "\n",
        "# Creating NumPy array\n",
        "data = np.array([1.5, 2.3, 3.1, 4.0])\n",
        "\n",
        "# Iterating over NumPy array, indexing with size (instead of len() as for the python list example above)\n",
        "for i in range(data.size):\n",
        "    print(f\"Value at index {i}: {data[i]}\")"
      ]
    },
    {
      "cell_type": "markdown",
      "id": "W2UY16AGu2ks",
      "metadata": {
        "id": "W2UY16AGu2ks"
      },
      "source": [
        "### ❗ More Advanced Loop Example with NumPy Arrays\n",
        "\n",
        "You can skip this unless you want to see a more advanced example for an additional challenge.\n",
        "\n",
        "- You can loop through two NumPy arrays together to compute values like the **Euclidean distance** between two data points.\n",
        "- The Euclidean distance is used in a lot of cluster-based Machine Learning models, as well as for data analysis purposes.\n",
        "- It gives a measure of how close two data points are together - the lower the value, the closer they are.\n",
        "- As such, for cluster analysis, data points that are all close together will form one cluster. And this is how we can do that programmatically!"
      ]
    },
    {
      "cell_type": "code",
      "execution_count": null,
      "id": "97459d50",
      "metadata": {
        "id": "97459d50"
      },
      "outputs": [],
      "source": [
        "# Comparing two NumPy arrays and calculating Euclidean distance between two data points (that have 3 values each)\n",
        "point1 = np.array([2.0, 3.0, 4.5])\n",
        "point2 = np.array([1.0, 0.5, 4.0])\n",
        "\n",
        "# Instantiating a distance variable, set to 0, which we will append to in the loop below\n",
        "distance = 0\n",
        "\n",
        "# For loop, from 0 until the size of the arrays\n",
        "for i in range(point1.size):\n",
        "    diff = point1[i] - point2[i] # gets the difference between the two points for each index value (2-1, 3-0.5, 4.5-4)\n",
        "    distance += diff ** 2        # square the difference so that we always have a positive number, and append to the distance variable\n",
        "\n",
        "distance = np.sqrt(distance)     # finally, taking the square root of the distance (to balance out the square inside the for loop)\n",
        "\n",
        "print(f\"Euclidean distance between the two data points: {distance:.3f}\")"
      ]
    },
    {
      "cell_type": "markdown",
      "id": "XG19s3sxrMy9",
      "metadata": {
        "id": "XG19s3sxrMy9"
      },
      "source": [
        "## 💡Generative AI\n",
        "\n",
        "Want to know more about Euclidean distance?\n",
        "- This is a good example of something you can look up, or...\n",
        "- Why not ask your **Generative AI** solution of choice about it, to have it explained in a way that you'd most prefer\n",
        "\n",
        "Example prompt:\n",
        " > \"I'm a University student learning about Euclidean distance. I'm a practical and visual learner. Explain what Euclidean distance is and how it works in a step by step manner, with examples and code (Python that I can copy into Google Colab). I am not comfortable with mathematical formulas, so if you include them, make sure to explain those in really simple terms. Really break it down into smaller chunks for me.\""
      ]
    },
    {
      "cell_type": "markdown",
      "id": "675bcadf",
      "metadata": {
        "id": "675bcadf"
      },
      "source": [
        "## 🔄 While Loops\n",
        "- Use `while` loops when the number of iterations isn't fixed.\n",
        "- Be careful to avoid infinite loops!"
      ]
    },
    {
      "cell_type": "code",
      "execution_count": null,
      "id": "b299c20b",
      "metadata": {
        "id": "b299c20b"
      },
      "outputs": [],
      "source": [
        "# Example: Simulate training until a threshold is reached\n",
        "loss = 1.0\n",
        "epoch = 0\n",
        "while loss > 0.3:\n",
        "    epoch += 1\n",
        "    loss *= 0.8  # pretend loss reduces each epoch\n",
        "    print(f\"Epoch {epoch}: loss = {loss:.4f}\")"
      ]
    },
    {
      "cell_type": "markdown",
      "id": "d59fecc6",
      "metadata": {
        "id": "d59fecc6"
      },
      "source": [
        "### 🧬 Anatomy of a While Loop\n",
        "- A `while` loop keeps running as long as the condition is `True`.\n",
        "- Be sure that something in the loop eventually makes the condition `False`, or you'll create an **infinite loop**.\n",
        "\n",
        "**Example:**\n",
        "```python\n",
        "count = 0\n",
        "while count < 3:\n",
        "    print(\"Looping...\")\n",
        "    count += 1  # This prevents infinite loop\n",
        "```"
      ]
    },
    {
      "cell_type": "code",
      "execution_count": null,
      "id": "ac5325e3",
      "metadata": {
        "id": "ac5325e3"
      },
      "outputs": [],
      "source": [
        "# Infinite loop example (DO NOT RUN this!)\n",
        "# count = 0\n",
        "# while count < 3:\n",
        "#     print(\"Looping...\")\n",
        "#     # Oops! count is never updated\n",
        "\n",
        "# Corrected version\n",
        "count = 0\n",
        "while count < 3:\n",
        "    print(f\"Iteration {count}\")\n",
        "    count += 1"
      ]
    },
    {
      "cell_type": "markdown",
      "id": "a8e85ea3",
      "metadata": {
        "id": "a8e85ea3"
      },
      "source": [
        "## 🧭 Loop Control: break and continue\n",
        "- `break` exits a loop early.\n",
        "- `continue` skips the rest of the current iteration.\n",
        "- These are useful for checking early stopping criteria or skipping bad data."
      ]
    },
    {
      "cell_type": "code",
      "execution_count": null,
      "id": "b5700b39",
      "metadata": {
        "id": "b5700b39"
      },
      "outputs": [],
      "source": [
        "# Example: Use break and continue\n",
        "for i in range(10):\n",
        "    if i == 2:\n",
        "        continue  # skip this round\n",
        "    if i == 5:\n",
        "        break     # exit loop early\n",
        "    print(i)"
      ]
    },
    {
      "cell_type": "markdown",
      "id": "50a1d34e",
      "metadata": {
        "id": "50a1d34e"
      },
      "source": [
        "## 🎯 Tasks: Try it Yourself"
      ]
    },
    {
      "cell_type": "markdown",
      "id": "bc191e1c",
      "metadata": {
        "id": "bc191e1c"
      },
      "source": [
        "1. Create a list of 5 machine learning model names and use a `for` loop to print each one, prefixed by 'Evaluating: '"
      ]
    },
    {
      "cell_type": "code",
      "execution_count": null,
      "id": "8860d085",
      "metadata": {
        "id": "8860d085"
      },
      "outputs": [],
      "source": [
        "models = [\"Linear Regression\", \"SVM\", \"KNN\", \"Random Forest\", \"Naive Bayes\"]\n",
        "\n",
        "for models in models:\n",
        "    print(f\"Evaluating {models}...\")"
      ]
    },
    {
      "cell_type": "markdown",
      "id": "189a1482",
      "metadata": {
        "id": "189a1482"
      },
      "source": [
        "2. Given a list of loss values (e.g., `[0.9, 0.7, 0.5, 0.3]`), use a `for` loop to calculate and print the total loss (i.e., add up all the numbers)."
      ]
    },
    {
      "cell_type": "code",
      "execution_count": null,
      "id": "bff58c00",
      "metadata": {
        "id": "bff58c00"
      },
      "outputs": [],
      "source": [
        "loss = [0.9,0.7,0.5,0.3]\n",
        "\n",
        "total = 0\n",
        "for i in loss:\n",
        "    total += i\n",
        "    print(f\"Current total loss: {total}\")"
      ]
    },
    {
      "cell_type": "markdown",
      "id": "bc651014",
      "metadata": {
        "id": "bc651014"
      },
      "source": [
        "3. Use a `while` loop to simulate training that stops when accuracy reaches 90%. Start with accuracy = 60% and increase by 10% each loop."
      ]
    },
    {
      "cell_type": "code",
      "execution_count": null,
      "id": "b7e3b1cc",
      "metadata": {
        "id": "b7e3b1cc"
      },
      "outputs": [],
      "source": [
        "accuracy = 60\n",
        "\n",
        "while accuracy < 90:\n",
        "    accuracy += 10\n",
        "    print(f\"Current accuracy: {accuracy}%\")"
      ]
    },
    {
      "cell_type": "markdown",
      "id": "224815a0",
      "metadata": {
        "id": "224815a0"
      },
      "source": [
        "## 💥 Mini Challenge\n",
        "Write a `for` loop that prints accuracy values from a simulated training run: start at 60%, increase by 5% for 10 epochs. Stop printing if accuracy reaches 90%."
      ]
    },
    {
      "cell_type": "code",
      "execution_count": 1,
      "id": "11e842e7",
      "metadata": {
        "id": "11e842e7"
      },
      "outputs": [
        {
          "name": "stdout",
          "output_type": "stream",
          "text": [
            "Target accuracy reached: 90%\n"
          ]
        }
      ],
      "source": [
        "accuracy = 60\n",
        "\n",
        "for i in range(10):\n",
        "    accuracy += 5\n",
        "    if accuracy >= 90:\n",
        "        print(f\"Target accuracy reached: {accuracy}%\")\n",
        "        break\n",
        "\n"
      ]
    },
    {
      "cell_type": "markdown",
      "id": "1ICM1AlDqeIW",
      "metadata": {
        "id": "1ICM1AlDqeIW"
      },
      "source": [
        "## 💥 Extra Challenge\n",
        "Ask Generative AI to create a visual chart for you to demonstrate Euclidean distance; in Python code that you can copy into this notebook.\n",
        "\n",
        "You may want to be specific, or iterate with what you're getting to something that shows:\n",
        "* a 2D chart\n",
        "* 2 data points (A and B)\n",
        "* a straight line between them\n",
        "* the numeric value calculated for the Euclidean distance between A and B\n",
        "\n",
        "**PS:** You may already have gotten this above if you asked genAI about Euclidean distance"
      ]
    },
    {
      "cell_type": "markdown",
      "id": "b3ef731c",
      "metadata": {
        "id": "b3ef731c"
      },
      "source": [
        "## 🤔 Reflection\n",
        "- How can loops help reduce repetition in your code?\n",
        "- What risks do you need to manage when using `while` loops in ML pipelines?"
      ]
    },
    {
      "cell_type": "markdown",
      "id": "432d3c7c",
      "metadata": {
        "id": "432d3c7c"
      },
      "source": [
        "## ✅ Solutions (Click to Expand)"
      ]
    },
    {
      "cell_type": "code",
      "execution_count": null,
      "id": "d5d890d1",
      "metadata": {
        "id": "d5d890d1"
      },
      "outputs": [],
      "source": [
        "# Task 1\n",
        "models = [\"Linear Regression\", \"SVM\", \"KNN\", \"Random Forest\", \"Naive Bayes\"]\n",
        "for model in models:\n",
        "    print(f\"Evaluating: {model}\")\n",
        "\n",
        "# Task 2\n",
        "losses = [0.9, 0.7, 0.5, 0.3]\n",
        "total_loss = 0\n",
        "for loss in losses:\n",
        "    total_loss += loss\n",
        "print(\"Total loss:\", total_loss)\n",
        "\n",
        "# Task 3\n",
        "accuracy = 60\n",
        "while accuracy < 90:\n",
        "    print(f\"Current accuracy: {accuracy}%\")\n",
        "    accuracy += 10\n",
        "print(\"Reached target accuracy!\")"
      ]
    },
    {
      "cell_type": "code",
      "execution_count": null,
      "id": "j-dvX5SVwlEJ",
      "metadata": {
        "id": "j-dvX5SVwlEJ"
      },
      "outputs": [],
      "source": [
        "# Mini Challenge\n",
        "accuracy = 60\n",
        "for epoch in range(10):\n",
        "    if accuracy >= 90:\n",
        "        break\n",
        "    print(f\"Epoch {epoch+1}: accuracy = {accuracy}%\")\n",
        "    accuracy += 5"
      ]
    },
    {
      "cell_type": "markdown",
      "id": "qBt70dkpof2P",
      "metadata": {
        "id": "qBt70dkpof2P"
      },
      "source": [
        "## ✅ Euclidean Distance Visualisation (Click to Expand)"
      ]
    },
    {
      "cell_type": "code",
      "execution_count": null,
      "id": "jKNtxQUTou4R",
      "metadata": {
        "id": "jKNtxQUTou4R"
      },
      "outputs": [],
      "source": [
        "import matplotlib.pyplot as plt\n",
        "import math\n",
        "\n",
        "# Define the points\n",
        "pointA = (2, 3)\n",
        "pointB = (7, 6)\n",
        "\n",
        "# Calculate Euclidean distance\n",
        "x_diff = pointB[0] - pointA[0]\n",
        "y_diff = pointB[1] - pointA[1]\n",
        "distance = math.sqrt(x_diff**2 + y_diff**2)\n",
        "\n",
        "# Plot the points and line\n",
        "x_values = [pointA[0], pointB[0]]\n",
        "y_values = [pointA[1], pointB[1]]\n",
        "\n",
        "plt.plot(x_values, y_values, marker='o', linestyle='-')\n",
        "plt.text(pointA[0], pointA[1], 'A (2,3) ', fontsize=12, ha='right', va='bottom')\n",
        "plt.text(pointB[0], pointB[1], ' B (7,6)', fontsize=12, ha='left', va='bottom')\n",
        "\n",
        "# Add distance label at midpoint\n",
        "mid_x = (pointA[0] + pointB[0]) / 2 + 2\n",
        "mid_y = (pointA[1] + pointB[1]) / 2 - 0.5\n",
        "plt.text(mid_x, mid_y, f'Distance ≈ {distance:.2f}', fontsize=12, ha='center', va='bottom', color='blue')\n",
        "\n",
        "# Set axis labels and title\n",
        "plt.title('Euclidean Distance: Point A to Point B')\n",
        "plt.xlabel('X-axis')\n",
        "plt.ylabel('Y-axis')\n",
        "\n",
        "# Set explicit axis ranges\n",
        "plt.xlim(0, 10)\n",
        "plt.ylim(0, 10)\n",
        "\n",
        "plt.grid(True)\n",
        "plt.show()"
      ]
    },
    {
      "cell_type": "code",
      "execution_count": null,
      "id": "AYzc18sWpbTh",
      "metadata": {
        "id": "AYzc18sWpbTh"
      },
      "outputs": [],
      "source": []
    }
  ],
  "metadata": {
    "colab": {
      "collapsed_sections": [
        "432d3c7c",
        "qBt70dkpof2P"
      ],
      "provenance": []
    },
    "kernelspec": {
      "display_name": ".venv",
      "language": "python",
      "name": "python3"
    },
    "language_info": {
      "codemirror_mode": {
        "name": "ipython",
        "version": 3
      },
      "file_extension": ".py",
      "mimetype": "text/x-python",
      "name": "python",
      "nbconvert_exporter": "python",
      "pygments_lexer": "ipython3",
      "version": "3.12.3"
    }
  },
  "nbformat": 4,
  "nbformat_minor": 5
}
